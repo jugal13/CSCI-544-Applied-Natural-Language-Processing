{
  "cells": [
    {
      "cell_type": "code",
      "execution_count": 3,
      "metadata": {
        "colab": {
          "base_uri": "https://localhost:8080/"
        },
        "id": "RDE5L41z0QMB",
        "outputId": "4d7a22bd-60ca-4d22-c51a-24c55ca57418"
      },
      "outputs": [
        {
          "name": "stderr",
          "output_type": "stream",
          "text": [
            "[nltk_data] Downloading package wordnet to /Users/jugal13/nltk_data...\n",
            "[nltk_data]   Package wordnet is already up-to-date!\n",
            "[nltk_data] Downloading package stopwords to\n",
            "[nltk_data]     /Users/jugal13/nltk_data...\n",
            "[nltk_data]   Package stopwords is already up-to-date!\n",
            "[nltk_data] Downloading package punkt to /Users/jugal13/nltk_data...\n",
            "[nltk_data]   Package punkt is already up-to-date!\n"
          ]
        },
        {
          "data": {
            "text/plain": [
              "True"
            ]
          },
          "execution_count": 3,
          "metadata": {},
          "output_type": "execute_result"
        }
      ],
      "source": [
        "import pandas as pd\n",
        "import numpy as np\n",
        "import nltk\n",
        "import re\n",
        "import seaborn as sns\n",
        "from bs4 import BeautifulSoup\n",
        "\n",
        "nltk.download('wordnet')\n",
        "nltk.download('stopwords')\n",
        "nltk.download('punkt')"
      ]
    },
    {
      "cell_type": "markdown",
      "metadata": {
        "id": "pA47BHwX0QMD"
      },
      "source": [
        "### Dataset:\n",
        "https://s3.amazonaws.com/amazon-reviews-pds/tsv/amazon_reviews_us_Beauty_v1_00.tsv.gz"
      ]
    },
    {
      "cell_type": "markdown",
      "metadata": {
        "id": "7gR9psBQ0QME"
      },
      "source": [
        "## Read Data"
      ]
    },
    {
      "cell_type": "code",
      "execution_count": 4,
      "metadata": {
        "id": "NO6lGNKl7dry"
      },
      "outputs": [
        {
          "name": "stdout",
          "output_type": "stream",
          "text": [
            "  marketplace  customer_id       review_id  product_id  product_parent  \\\n",
            "0          US     43081963  R18RVCKGH1SSI9  B001BM2MAC       307809868   \n",
            "1          US     10951564  R3L4L6LW1PUOFY  B00DZYEXPQ        75004341   \n",
            "2          US     21143145  R2J8AWXWTDX2TF  B00RTMUHDW       529689027   \n",
            "\n",
            "                                       product_title product_category  \\\n",
            "0     Scotch Cushion Wrap 7961, 12 Inches x 100 Feet  Office Products   \n",
            "1          Dust-Off Compressed Gas Duster, Pack of 4  Office Products   \n",
            "2  Amram Tagger Standard Tag Attaching Tagging Gu...  Office Products   \n",
            "\n",
            "  star_rating  helpful_votes  total_votes vine verified_purchase  \\\n",
            "0           5            0.0          0.0    N                 Y   \n",
            "1           5            0.0          1.0    N                 Y   \n",
            "2           5            0.0          0.0    N                 Y   \n",
            "\n",
            "                                     review_headline  \\\n",
            "0                                         Five Stars   \n",
            "1  Phffffffft, Phfffffft. Lots of air, and it's C...   \n",
            "2                      but I am sure I will like it.   \n",
            "\n",
            "                                         review_body review_date  \n",
            "0                                     Great product.  2015-08-31  \n",
            "1  What's to say about this commodity item except...  2015-08-31  \n",
            "2    Haven't used yet, but I am sure I will like it.  2015-08-31  \n"
          ]
        }
      ],
      "source": [
        "dataset = \"amazon_reviews_us_Office_Products_v1_00.tsv\"\n",
        "\n",
        "original_df = pd.read_csv(dataset, sep=\"\\t\", on_bad_lines=\"skip\", low_memory=False)\n",
        "\n",
        "print(original_df.head(3))"
      ]
    },
    {
      "cell_type": "code",
      "execution_count": 5,
      "metadata": {
        "colab": {
          "base_uri": "https://localhost:8080/",
          "height": 469
        },
        "id": "LwgGC5s30QMF",
        "outputId": "489ceb02-eeff-4447-ee7b-d0910c12bc90"
      },
      "outputs": [
        {
          "data": {
            "text/html": [
              "<div>\n",
              "<style scoped>\n",
              "    .dataframe tbody tr th:only-of-type {\n",
              "        vertical-align: middle;\n",
              "    }\n",
              "\n",
              "    .dataframe tbody tr th {\n",
              "        vertical-align: top;\n",
              "    }\n",
              "\n",
              "    .dataframe thead th {\n",
              "        text-align: right;\n",
              "    }\n",
              "</style>\n",
              "<table border=\"1\" class=\"dataframe\">\n",
              "  <thead>\n",
              "    <tr style=\"text-align: right;\">\n",
              "      <th></th>\n",
              "      <th>marketplace</th>\n",
              "      <th>customer_id</th>\n",
              "      <th>review_id</th>\n",
              "      <th>product_id</th>\n",
              "      <th>product_parent</th>\n",
              "      <th>product_title</th>\n",
              "      <th>product_category</th>\n",
              "      <th>star_rating</th>\n",
              "      <th>helpful_votes</th>\n",
              "      <th>total_votes</th>\n",
              "      <th>vine</th>\n",
              "      <th>verified_purchase</th>\n",
              "      <th>review_headline</th>\n",
              "      <th>review_body</th>\n",
              "      <th>review_date</th>\n",
              "    </tr>\n",
              "  </thead>\n",
              "  <tbody>\n",
              "    <tr>\n",
              "      <th>0</th>\n",
              "      <td>US</td>\n",
              "      <td>43081963</td>\n",
              "      <td>R18RVCKGH1SSI9</td>\n",
              "      <td>B001BM2MAC</td>\n",
              "      <td>307809868</td>\n",
              "      <td>Scotch Cushion Wrap 7961, 12 Inches x 100 Feet</td>\n",
              "      <td>Office Products</td>\n",
              "      <td>5</td>\n",
              "      <td>0.0</td>\n",
              "      <td>0.0</td>\n",
              "      <td>N</td>\n",
              "      <td>Y</td>\n",
              "      <td>Five Stars</td>\n",
              "      <td>Great product.</td>\n",
              "      <td>2015-08-31</td>\n",
              "    </tr>\n",
              "    <tr>\n",
              "      <th>1</th>\n",
              "      <td>US</td>\n",
              "      <td>10951564</td>\n",
              "      <td>R3L4L6LW1PUOFY</td>\n",
              "      <td>B00DZYEXPQ</td>\n",
              "      <td>75004341</td>\n",
              "      <td>Dust-Off Compressed Gas Duster, Pack of 4</td>\n",
              "      <td>Office Products</td>\n",
              "      <td>5</td>\n",
              "      <td>0.0</td>\n",
              "      <td>1.0</td>\n",
              "      <td>N</td>\n",
              "      <td>Y</td>\n",
              "      <td>Phffffffft, Phfffffft. Lots of air, and it's C...</td>\n",
              "      <td>What's to say about this commodity item except...</td>\n",
              "      <td>2015-08-31</td>\n",
              "    </tr>\n",
              "    <tr>\n",
              "      <th>2</th>\n",
              "      <td>US</td>\n",
              "      <td>21143145</td>\n",
              "      <td>R2J8AWXWTDX2TF</td>\n",
              "      <td>B00RTMUHDW</td>\n",
              "      <td>529689027</td>\n",
              "      <td>Amram Tagger Standard Tag Attaching Tagging Gu...</td>\n",
              "      <td>Office Products</td>\n",
              "      <td>5</td>\n",
              "      <td>0.0</td>\n",
              "      <td>0.0</td>\n",
              "      <td>N</td>\n",
              "      <td>Y</td>\n",
              "      <td>but I am sure I will like it.</td>\n",
              "      <td>Haven't used yet, but I am sure I will like it.</td>\n",
              "      <td>2015-08-31</td>\n",
              "    </tr>\n",
              "  </tbody>\n",
              "</table>\n",
              "</div>"
            ],
            "text/plain": [
              "  marketplace  customer_id       review_id  product_id  product_parent  \\\n",
              "0          US     43081963  R18RVCKGH1SSI9  B001BM2MAC       307809868   \n",
              "1          US     10951564  R3L4L6LW1PUOFY  B00DZYEXPQ        75004341   \n",
              "2          US     21143145  R2J8AWXWTDX2TF  B00RTMUHDW       529689027   \n",
              "\n",
              "                                       product_title product_category  \\\n",
              "0     Scotch Cushion Wrap 7961, 12 Inches x 100 Feet  Office Products   \n",
              "1          Dust-Off Compressed Gas Duster, Pack of 4  Office Products   \n",
              "2  Amram Tagger Standard Tag Attaching Tagging Gu...  Office Products   \n",
              "\n",
              "  star_rating  helpful_votes  total_votes vine verified_purchase  \\\n",
              "0           5            0.0          0.0    N                 Y   \n",
              "1           5            0.0          1.0    N                 Y   \n",
              "2           5            0.0          0.0    N                 Y   \n",
              "\n",
              "                                     review_headline  \\\n",
              "0                                         Five Stars   \n",
              "1  Phffffffft, Phfffffft. Lots of air, and it's C...   \n",
              "2                      but I am sure I will like it.   \n",
              "\n",
              "                                         review_body review_date  \n",
              "0                                     Great product.  2015-08-31  \n",
              "1  What's to say about this commodity item except...  2015-08-31  \n",
              "2    Haven't used yet, but I am sure I will like it.  2015-08-31  "
            ]
          },
          "execution_count": 5,
          "metadata": {},
          "output_type": "execute_result"
        }
      ],
      "source": [
        "original_df.head(3)"
      ]
    },
    {
      "cell_type": "markdown",
      "metadata": {
        "id": "RuefgEzI0QMF"
      },
      "source": [
        "## Keep Reviews and Ratings"
      ]
    },
    {
      "cell_type": "code",
      "execution_count": 6,
      "metadata": {
        "colab": {
          "base_uri": "https://localhost:8080/"
        },
        "id": "wjP051KP0QMF",
        "outputId": "73faa7a1-9a09-4a68-aa3e-7bfa1d350015"
      },
      "outputs": [],
      "source": [
        "original_df = original_df.dropna(subset=\"review_headline\")\n",
        "original_df = original_df.dropna(subset=\"review_body\")\n",
        "\n",
        "original_df[\"review_text\"] = original_df[\"review_headline\"] + \" \" + original_df[\"review_body\"]\n",
        "\n",
        "columns = [\"star_rating\", \"review_text\"]\n",
        "\n",
        "filtered_column_df = original_df[columns]\n",
        "\n",
        "filtered_column_df.loc[:,(\"star_rating\")] = pd.to_numeric(filtered_column_df[\"star_rating\"], errors='coerce')\n",
        "\n",
        "filtered_column_df = filtered_column_df.dropna(subset=[\"star_rating\"])\n",
        "filtered_column_df = filtered_column_df.dropna(subset=[\"review_text\"])"
      ]
    },
    {
      "cell_type": "code",
      "execution_count": 7,
      "metadata": {
        "colab": {
          "base_uri": "https://localhost:8080/",
          "height": 206
        },
        "id": "6tVGtTiS0QMF",
        "outputId": "863b6318-11c6-4a1d-8c01-5195174d877a"
      },
      "outputs": [
        {
          "data": {
            "text/html": [
              "<div>\n",
              "<style scoped>\n",
              "    .dataframe tbody tr th:only-of-type {\n",
              "        vertical-align: middle;\n",
              "    }\n",
              "\n",
              "    .dataframe tbody tr th {\n",
              "        vertical-align: top;\n",
              "    }\n",
              "\n",
              "    .dataframe thead th {\n",
              "        text-align: right;\n",
              "    }\n",
              "</style>\n",
              "<table border=\"1\" class=\"dataframe\">\n",
              "  <thead>\n",
              "    <tr style=\"text-align: right;\">\n",
              "      <th></th>\n",
              "      <th>star_rating</th>\n",
              "      <th>review_text</th>\n",
              "    </tr>\n",
              "  </thead>\n",
              "  <tbody>\n",
              "    <tr>\n",
              "      <th>0</th>\n",
              "      <td>5</td>\n",
              "      <td>Five Stars Great product.</td>\n",
              "    </tr>\n",
              "    <tr>\n",
              "      <th>1</th>\n",
              "      <td>5</td>\n",
              "      <td>Phffffffft, Phfffffft. Lots of air, and it's C...</td>\n",
              "    </tr>\n",
              "    <tr>\n",
              "      <th>2</th>\n",
              "      <td>5</td>\n",
              "      <td>but I am sure I will like it. Haven't used yet...</td>\n",
              "    </tr>\n",
              "  </tbody>\n",
              "</table>\n",
              "</div>"
            ],
            "text/plain": [
              "  star_rating                                        review_text\n",
              "0           5                          Five Stars Great product.\n",
              "1           5  Phffffffft, Phfffffft. Lots of air, and it's C...\n",
              "2           5  but I am sure I will like it. Haven't used yet..."
            ]
          },
          "execution_count": 7,
          "metadata": {},
          "output_type": "execute_result"
        }
      ],
      "source": [
        "filtered_column_df.head(3)"
      ]
    },
    {
      "cell_type": "code",
      "execution_count": 8,
      "metadata": {
        "colab": {
          "base_uri": "https://localhost:8080/",
          "height": 570
        },
        "id": "vNTid_5Q0QMG",
        "outputId": "1d3b6f45-4ae8-43c8-b66f-953e551fed90"
      },
      "outputs": [
        {
          "name": "stdout",
          "output_type": "stream",
          "text": [
            "star_rating\n",
            "1     306962\n",
            "2     138380\n",
            "3     193674\n",
            "4     418339\n",
            "5    1582682\n",
            "Name: count, dtype: int64\n"
          ]
        },
        {
          "data": {
            "text/plain": [
              "<Axes: xlabel='star_rating', ylabel='count'>"
            ]
          },
          "execution_count": 8,
          "metadata": {},
          "output_type": "execute_result"
        },
        {
          "data": {
            "image/png": "[encoded data removed]",
            "text/plain": [
              "<Figure size 640x480 with 1 Axes>"
            ]
          },
          "metadata": {},
          "output_type": "display_data"
        }
      ],
      "source": [
        "ratings_frequency = filtered_column_df[\"star_rating\"].value_counts().sort_index()\n",
        "\n",
        "print(ratings_frequency)\n",
        "\n",
        "sns.barplot(ratings_frequency)"
      ]
    },
    {
      "cell_type": "markdown",
      "metadata": {
        "id": "jGaamBgl0QMG"
      },
      "source": [
        " ## We form three classes and select 20000 reviews randomly from each class.\n",
        "\n"
      ]
    },
    {
      "cell_type": "code",
      "execution_count": 9,
      "metadata": {
        "id": "Pjyh4AGx0QMG"
      },
      "outputs": [],
      "source": [
        "# Setting the sentinment for neutral reviews\n",
        "filtered_column_df[\"sentiment_score\"] = np.NaN\n",
        "\n",
        "# Setting the sentiment for positive reviews\n",
        "filtered_column_df.loc[filtered_column_df[\"star_rating\"] > 3, \"sentiment_score\"] = 1\n",
        "\n",
        "# Setting the sentinment for negative reviews\n",
        "filtered_column_df.loc[filtered_column_df[\"star_rating\"] < 3, \"sentiment_score\"] = 0"
      ]
    },
    {
      "cell_type": "code",
      "execution_count": 10,
      "metadata": {
        "colab": {
          "base_uri": "https://localhost:8080/"
        },
        "id": "z1iGBNB00QMH",
        "outputId": "44a36b77-ad47-4de6-80ae-2e2ee5ae43ac"
      },
      "outputs": [
        {
          "name": "stdout",
          "output_type": "stream",
          "text": [
            "Number of neutral reviews:  193674\n",
            "Number of positive reviews:  2001021\n",
            "Number of negative reviews:  445342\n"
          ]
        }
      ],
      "source": [
        "#\n",
        "print(\"Number of neutral reviews: \", len(filtered_column_df.loc[filtered_column_df[\"star_rating\"] == 3]))\n",
        "print(\"Number of positive reviews: \", len(filtered_column_df.loc[filtered_column_df[\"sentiment_score\"] == 1]))\n",
        "print(\"Number of negative reviews: \", len(filtered_column_df.loc[filtered_column_df[\"sentiment_score\"] == 0]))"
      ]
    },
    {
      "cell_type": "code",
      "execution_count": 11,
      "metadata": {
        "colab": {
          "base_uri": "https://localhost:8080/",
          "height": 206
        },
        "id": "rUehDmC60QMH",
        "outputId": "cd99eb5b-526c-4e9b-ffe3-78df513b7cb3"
      },
      "outputs": [
        {
          "data": {
            "text/html": [
              "<div>\n",
              "<style scoped>\n",
              "    .dataframe tbody tr th:only-of-type {\n",
              "        vertical-align: middle;\n",
              "    }\n",
              "\n",
              "    .dataframe tbody tr th {\n",
              "        vertical-align: top;\n",
              "    }\n",
              "\n",
              "    .dataframe thead th {\n",
              "        text-align: right;\n",
              "    }\n",
              "</style>\n",
              "<table border=\"1\" class=\"dataframe\">\n",
              "  <thead>\n",
              "    <tr style=\"text-align: right;\">\n",
              "      <th></th>\n",
              "      <th>star_rating</th>\n",
              "      <th>review_text</th>\n",
              "      <th>sentiment_score</th>\n",
              "    </tr>\n",
              "  </thead>\n",
              "  <tbody>\n",
              "    <tr>\n",
              "      <th>0</th>\n",
              "      <td>5</td>\n",
              "      <td>Five Stars Great product.</td>\n",
              "      <td>1.0</td>\n",
              "    </tr>\n",
              "    <tr>\n",
              "      <th>1</th>\n",
              "      <td>5</td>\n",
              "      <td>Phffffffft, Phfffffft. Lots of air, and it's C...</td>\n",
              "      <td>1.0</td>\n",
              "    </tr>\n",
              "    <tr>\n",
              "      <th>2</th>\n",
              "      <td>5</td>\n",
              "      <td>but I am sure I will like it. Haven't used yet...</td>\n",
              "      <td>1.0</td>\n",
              "    </tr>\n",
              "    <tr>\n",
              "      <th>3</th>\n",
              "      <td>1</td>\n",
              "      <td>and the shredder was dirty and the bin was par...</td>\n",
              "      <td>0.0</td>\n",
              "    </tr>\n",
              "    <tr>\n",
              "      <th>4</th>\n",
              "      <td>4</td>\n",
              "      <td>Four Stars Gorgeous colors and easy to use</td>\n",
              "      <td>1.0</td>\n",
              "    </tr>\n",
              "  </tbody>\n",
              "</table>\n",
              "</div>"
            ],
            "text/plain": [
              "  star_rating                                        review_text  \\\n",
              "0           5                          Five Stars Great product.   \n",
              "1           5  Phffffffft, Phfffffft. Lots of air, and it's C...   \n",
              "2           5  but I am sure I will like it. Haven't used yet...   \n",
              "3           1  and the shredder was dirty and the bin was par...   \n",
              "4           4         Four Stars Gorgeous colors and easy to use   \n",
              "\n",
              "   sentiment_score  \n",
              "0              1.0  \n",
              "1              1.0  \n",
              "2              1.0  \n",
              "3              0.0  \n",
              "4              1.0  "
            ]
          },
          "execution_count": 11,
          "metadata": {},
          "output_type": "execute_result"
        }
      ],
      "source": [
        "# Dropping neutral reviews\n",
        "filtered_column_df = filtered_column_df.dropna(subset=[\"sentiment_score\"])\n",
        "\n",
        "filtered_column_df.head()"
      ]
    },
    {
      "cell_type": "code",
      "execution_count": 12,
      "metadata": {
        "colab": {
          "base_uri": "https://localhost:8080/"
        },
        "id": "B1HwnWJD0QMH",
        "outputId": "a97a694c-1c94-4824-962c-5a09c5d09c7c"
      },
      "outputs": [
        {
          "name": "stdout",
          "output_type": "stream",
          "text": [
            "Number of reviews:  2446363\n"
          ]
        }
      ],
      "source": [
        "print(\"Number of reviews: \", filtered_column_df.shape[0])"
      ]
    },
    {
      "cell_type": "code",
      "execution_count": 13,
      "metadata": {
        "colab": {
          "base_uri": "https://localhost:8080/",
          "height": 206
        },
        "id": "LHLjDmUm0QMI",
        "outputId": "f11fda81-c009-4b03-a1bd-34ddfac0f58e"
      },
      "outputs": [
        {
          "data": {
            "text/html": [
              "<div>\n",
              "<style scoped>\n",
              "    .dataframe tbody tr th:only-of-type {\n",
              "        vertical-align: middle;\n",
              "    }\n",
              "\n",
              "    .dataframe tbody tr th {\n",
              "        vertical-align: top;\n",
              "    }\n",
              "\n",
              "    .dataframe thead th {\n",
              "        text-align: right;\n",
              "    }\n",
              "</style>\n",
              "<table border=\"1\" class=\"dataframe\">\n",
              "  <thead>\n",
              "    <tr style=\"text-align: right;\">\n",
              "      <th></th>\n",
              "      <th>star_rating</th>\n",
              "      <th>review_text</th>\n",
              "      <th>sentiment_score</th>\n",
              "    </tr>\n",
              "  </thead>\n",
              "  <tbody>\n",
              "    <tr>\n",
              "      <th>0</th>\n",
              "      <td>5</td>\n",
              "      <td>Five Stars Great product.</td>\n",
              "      <td>1.0</td>\n",
              "    </tr>\n",
              "    <tr>\n",
              "      <th>1</th>\n",
              "      <td>5</td>\n",
              "      <td>Phffffffft, Phfffffft. Lots of air, and it's C...</td>\n",
              "      <td>1.0</td>\n",
              "    </tr>\n",
              "    <tr>\n",
              "      <th>2</th>\n",
              "      <td>5</td>\n",
              "      <td>but I am sure I will like it. Haven't used yet...</td>\n",
              "      <td>1.0</td>\n",
              "    </tr>\n",
              "    <tr>\n",
              "      <th>3</th>\n",
              "      <td>4</td>\n",
              "      <td>Four Stars Gorgeous colors and easy to use</td>\n",
              "      <td>1.0</td>\n",
              "    </tr>\n",
              "    <tr>\n",
              "      <th>4</th>\n",
              "      <td>5</td>\n",
              "      <td>Five Stars Perfect for planning weekly meals. ...</td>\n",
              "      <td>1.0</td>\n",
              "    </tr>\n",
              "  </tbody>\n",
              "</table>\n",
              "</div>"
            ],
            "text/plain": [
              "  star_rating                                        review_text  \\\n",
              "0           5                          Five Stars Great product.   \n",
              "1           5  Phffffffft, Phfffffft. Lots of air, and it's C...   \n",
              "2           5  but I am sure I will like it. Haven't used yet...   \n",
              "3           4         Four Stars Gorgeous colors and easy to use   \n",
              "4           5  Five Stars Perfect for planning weekly meals. ...   \n",
              "\n",
              "   sentiment_score  \n",
              "0              1.0  \n",
              "1              1.0  \n",
              "2              1.0  \n",
              "3              1.0  \n",
              "4              1.0  "
            ]
          },
          "execution_count": 13,
          "metadata": {},
          "output_type": "execute_result"
        }
      ],
      "source": [
        "df1 = filtered_column_df.loc[filtered_column_df[\"sentiment_score\"] == 1]\n",
        "df2 = filtered_column_df.loc[filtered_column_df[\"sentiment_score\"] == 0]\n",
        "\n",
        "df1 = df1[:100000]\n",
        "df2 = df2[:100000]\n",
        "\n",
        "df = pd.concat([df1, df2], ignore_index=True)\n",
        "\n",
        "df = df.sort_index()\n",
        "df.head()"
      ]
    },
    {
      "cell_type": "markdown",
      "metadata": {
        "id": "1mYn_DRp0QMI"
      },
      "source": [
        "# Data Cleaning\n",
        "\n"
      ]
    },
    {
      "cell_type": "code",
      "execution_count": 14,
      "metadata": {},
      "outputs": [
        {
          "name": "stdout",
          "output_type": "stream",
          "text": [
            "Before cleaning\n",
            "Average Length of a review:  221.387815\n"
          ]
        }
      ],
      "source": [
        "print(\"Before cleaning\")\n",
        "print(\"Average Length of a review: \", df[\"review_text\"].apply(len).mean())"
      ]
    },
    {
      "cell_type": "code",
      "execution_count": 15,
      "metadata": {
        "colab": {
          "base_uri": "https://localhost:8080/"
        },
        "id": "Pr14W9kl0QMI",
        "outputId": "6f6c656d-9b95-411f-dd27-03e654750912"
      },
      "outputs": [
        {
          "name": "stderr",
          "output_type": "stream",
          "text": [
            "/var/folders/g9/r7hfr6xs6gd6cg8z55mvvqnh0000gn/T/ipykernel_96452/2174142748.py:5: MarkupResemblesLocatorWarning: The input looks more like a filename than markup. You may want to open this file and pass the filehandle into Beautiful Soup.\n",
            "  df[\"review_text\"] = df[\"review_text\"].apply(lambda x: BeautifulSoup(x).get_text())\n"
          ]
        }
      ],
      "source": [
        "# Transform string to lower case\n",
        "df[\"review_text\"] = df[\"review_text\"].str.lower()\n",
        "\n",
        "# Remove html tags\n",
        "df[\"review_text\"] = df[\"review_text\"].apply(lambda x: BeautifulSoup(x).get_text())\n",
        "\n",
        "# Remove urls\n",
        "df[\"review_text\"] = df[\"review_text\"].apply(lambda x: re.sub('http[s]?://\\S+', '', x))\n",
        "\n",
        "# remove any non-alphabetic charcters\n",
        "df[\"review_text\"] = df[\"review_text\"].apply(lambda x: re.sub(r'[^a-z\\s]+', '', x))\n",
        "\n",
        "# remove any extra spaces\n",
        "df[\"review_text\"] = df[\"review_text\"].apply(lambda x: re.sub(r' +', ' ', x))"
      ]
    },
    {
      "cell_type": "code",
      "execution_count": 16,
      "metadata": {
        "id": "-xnwT93j0QMI"
      },
      "outputs": [],
      "source": [
        "contractions = {\n",
        "    re.compile(r\"\\bain't\\b\", re.I | re.U): \"are not\",\n",
        "    re.compile(r\"\\ba'ight\\b\", re.I | re.U): \"alright\",\n",
        "    re.compile(r\"\\bamn't\\b\", re.I | re.U): \"am not\",\n",
        "    re.compile(r\"\\bn\\b\", re.I | re.U): \"and\",\n",
        "    re.compile(r\"\\barencha\\b\", re.I | re.U): \"are not you\",\n",
        "    re.compile(r\"\\baren't\\b\", re.I | re.U): \"are not\",\n",
        "    re.compile(r\"\\b'bout\\b\", re.I | re.U): \"about\",\n",
        "    re.compile(r\"\\bcan't\\b\", re.I | re.U): \"cannot\",\n",
        "    re.compile(r\"\\bcap'n\\b\", re.I | re.U): \"captain\",\n",
        "    re.compile(r\"\\bcause\\b\", re.I | re.U): \"because\",\n",
        "    re.compile(r\"\\bcuz\\b\", re.I | re.U): \"because\",\n",
        "    re.compile(r\"\\bcept\\b\", re.I | re.U): \"except\",\n",
        "    re.compile(r\"\\bc'mon\\b\", re.I | re.U): \"come on\",\n",
        "    re.compile(r\"\\bcould've\\b\", re.I | re.U): \"could have\",\n",
        "    re.compile(r\"\\bcouldn't\\b\", re.I | re.U): \"could not\",\n",
        "    re.compile(r\"\\bcouldn't've\\b\", re.I | re.U): \"could not have\",\n",
        "    re.compile(r\"\\bcuppa\\b\", re.I | re.U): \"cup of\",\n",
        "    re.compile(r\"\\bdaren't\\b\", re.I | re.U): \"dare not\",\n",
        "    re.compile(r\"\\bdaresn't\\b\", re.I | re.U): \"dare not\",\n",
        "    re.compile(r\"\\bdasn't\\b\", re.I | re.U): \"dare not\",\n",
        "    re.compile(r\"\\bdidn't\\b\", re.I | re.U): \"did not\",\n",
        "    re.compile(r\"\\bdoesn't\\b\", re.I | re.U): \"does not\",\n",
        "    re.compile(r\"\\bdon't\\b\", re.I | re.U): \"do not\",\n",
        "    re.compile(r\"\\bdunno\\b\", re.I | re.U): \"do not know\",\n",
        "    re.compile(r\"\\bd'ya\\b\", re.I | re.U): \"did you\",\n",
        "    re.compile(r\"\\be'en\\b\", re.I | re.U): \"even\",\n",
        "    re.compile(r\"\\be'er\\b\", re.I | re.U): \"ever\",\n",
        "    re.compile(r\"\\beverybody's\\b\", re.I | re.U): \"everybody is\",\n",
        "    re.compile(r\"\\beveryone's\\b\", re.I | re.U): \"everyone is\",\n",
        "    re.compile(r\"\\beverything's\\b\", re.I | re.U): \"everything is\",\n",
        "    re.compile(r\"\\b'em\\b\", re.I | re.U): \"them\",\n",
        "    re.compile(r\"\\bfinna\\b\", re.I | re.U): \"fixing to\",\n",
        "    re.compile(r\"\\bfo'c'sle\\b\", re.I | re.U): \"forecastle\",\n",
        "    re.compile(r\"\\bgainst\\b\", re.I | re.U): \"against\",\n",
        "    re.compile(r\"\\bg'day\\b\", re.I | re.U): \"good day\",\n",
        "    re.compile(r\"\\bgimme\\b\", re.I | re.U): \"give me\",\n",
        "    re.compile(r\"\\bgiv'n\\b\", re.I | re.U): \"given\",\n",
        "    re.compile(r\"\\bgi'z\\b\", re.I | re.U): \"give us\",\n",
        "    re.compile(r\"\\bgonna\\b\", re.I | re.U): \"going to\",\n",
        "    re.compile(r\"\\bgon't\\b\", re.I | re.U): \"go not\",\n",
        "    re.compile(r\"\\bgotta\\b\", re.I | re.U): \"got to\",\n",
        "    re.compile(r\"\\bhadn't\\b\", re.I | re.U): \"had not\",\n",
        "    re.compile(r\"\\bhad've\\b\", re.I | re.U): \"had have\",\n",
        "    re.compile(r\"\\bhasn't\\b\", re.I | re.U): \"has not\",\n",
        "    re.compile(r\"\\bhaven't\\b\", re.I | re.U): \"have not\",\n",
        "    re.compile(r\"\\bhelluva\\b\", re.I | re.U): \"hell of a\",\n",
        "    re.compile(r\"\\bhe'd\\b\", re.I | re.U): \"he would\",\n",
        "    re.compile(r\"\\bhe'll\\b\", re.I | re.U): \"he will\",\n",
        "    re.compile(r\"\\bhe's\\b\", re.I | re.U): \"he is\",\n",
        "    re.compile(r\"\\byes'nt\\b\", re.I | re.U): \"no\",\n",
        "    re.compile(r\"\\bhow'd\\b\", re.I | re.U): \"how did\",\n",
        "    re.compile(r\"\\bhere's\\b\", re.I | re.U): \"here is\",\n",
        "    re.compile(r\"\\bhowdy\\b\", re.I | re.U): \"how do you do\",\n",
        "    re.compile(r\"\\bhow'll\\b\", re.I | re.U): \"how will\",\n",
        "    re.compile(r\"\\bhow're\\b\", re.I | re.U): \"how are\",\n",
        "    re.compile(r\"\\bI'd've\\b\", re.I | re.U): \"I would have\",\n",
        "    re.compile(r\"\\bI'd'nt\\b\", re.I | re.U): \"I would not\",\n",
        "    re.compile(r\"\\bI'd'nt've\\b\", re.I | re.U): \"I would not have\",\n",
        "    re.compile(r\"\\bIf'n\\b\", re.I | re.U): \"If and when\",\n",
        "    re.compile(r\"\\bI'm\\b\", re.I | re.U): \"I am\",\n",
        "    re.compile(r\"\\bImma\\b\", re.I | re.U): \"I am going to\",\n",
        "    re.compile(r\"\\bI'm'o\\b\", re.I | re.U): \"I am going to\",\n",
        "    re.compile(r\"\\binnit\\b\", re.I | re.U): \"is it not\",\n",
        "    re.compile(r\"\\bIon\\b\", re.I | re.U): \"I do not\",\n",
        "    re.compile(r\"\\bI've\\b\", re.I | re.U): \"I have\",\n",
        "    re.compile(r\"\\bisn't\\b\", re.I | re.U): \"is not\",\n",
        "    re.compile(r\"\\bit'd\\b\", re.I | re.U): \"it would\",\n",
        "    re.compile(r\"\\bIdunno\\b\", re.I | re.U): \"I do not know\",\n",
        "    re.compile(r\"\\bkinda\\b\", re.I | re.U): \"kind of\",\n",
        "    re.compile(r\"\\blet's\\b\", re.I | re.U): \"let us\",\n",
        "    re.compile(r\"\\bloven't\\b\", re.I | re.U): \"love not\",\n",
        "    re.compile(r\"\\bma'am\\b\", re.I | re.U): \"madam\",\n",
        "    re.compile(r\"\\bmayn't\\b\", re.I | re.U): \"may not\",\n",
        "    re.compile(r\"\\bmay've\\b\", re.I | re.U): \"may have\",\n",
        "    re.compile(r\"\\bmethinks\\b\", re.I | re.U): \"I think\",\n",
        "    re.compile(r\"\\bmightn't\\b\", re.I | re.U): \"might not\",\n",
        "    re.compile(r\"\\bmight've\\b\", re.I | re.U): \"might have\",\n",
        "    re.compile(r\"\\bmine's\\b\", re.I | re.U): \"mine is\",\n",
        "    re.compile(r\"\\bmustn't\\b\", re.I | re.U): \"must not\",\n",
        "    re.compile(r\"\\bmustn't've\\b\", re.I | re.U): \"must not have\",\n",
        "    re.compile(r\"\\bmust've\\b\", re.I | re.U): \"must have\",\n",
        "    re.compile(r\"\\b'neath\\b\", re.I | re.U): \"beneath\",\n",
        "    re.compile(r\"\\bneedn't\\b\", re.I | re.U): \"need not\",\n",
        "    re.compile(r\"\\bnal\\b\", re.I | re.U): \"and all\",\n",
        "    re.compile(r\"\\bne'er\\b\", re.I | re.U): \"never\",\n",
        "    re.compile(r\"\\bo'clock\\b\", re.I | re.U): \"of the clock\",\n",
        "    re.compile(r\"\\bo'er\\b\", re.I | re.U): \"over\",\n",
        "    re.compile(r\"\\bol'\\b\", re.I | re.U): \"old\",\n",
        "    re.compile(r\"\\bought've\\b\", re.I | re.U): \"ought have\",\n",
        "    re.compile(r\"\\boughtn't\\b\", re.I | re.U): \"ought not\",\n",
        "    re.compile(r\"\\boughtn't've\\b\", re.I | re.U): \"ought not have\",\n",
        "    re.compile(r\"\\b'round\\b\", re.I | re.U): \"around\",\n",
        "    re.compile(r\"\\b's\\b\", re.I | re.U): \"is\",\n",
        "    re.compile(r\"\\bshalln't\\b\", re.I | re.U): \"shall not\",\n",
        "    re.compile(r\"\\bshan'\\b\", re.I | re.U): \"shall not\",\n",
        "    re.compile(r\"\\bshan't\\b\", re.I | re.U): \"shall not\",\n",
        "    re.compile(r\"\\bshould've\\b\", re.I | re.U): \"should have\",\n",
        "    re.compile(r\"\\bshouldn't\\b\", re.I | re.U): \"should not\",\n",
        "    re.compile(r\"\\bshouldn't've\\b\", re.I | re.U): \"should not have\",\n",
        "    re.compile(r\"\\bso're\\b\", re.I | re.U): \"so are\",\n",
        "    re.compile(r\"\\bso've\\b\", re.I | re.U): \"so have\",\n",
        "    re.compile(r\"\\bthat're\\b\", re.I | re.U): \"that are\",\n",
        "    re.compile(r\"\\bthere're\\b\", re.I | re.U): \"there are\",\n",
        "    re.compile(r\"\\bthese're\\b\", re.I | re.U): \"these are\",\n",
        "    re.compile(r\"\\bthese've\\b\", re.I | re.U): \"these have\",\n",
        "    re.compile(r\"\\bthey've\\b\", re.I | re.U): \"they have\",\n",
        "    re.compile(r\"\\bthose're\\b\", re.I | re.U): \"those are\",\n",
        "    re.compile(r\"\\bthose've\\b\", re.I | re.U): \"those have\",\n",
        "    re.compile(r\"\\b'thout\\b\", re.I | re.U): \"without\",\n",
        "    re.compile(r\"\\b'til\\b\", re.I | re.U): \"until\",\n",
        "    re.compile(r\"\\b'tis\\b\", re.I | re.U): \"it is\",\n",
        "    re.compile(r\"\\bto've\\b\", re.I | re.U): \"to have\",\n",
        "    re.compile(r\"\\btryna\\b\", re.I | re.U): \"trying to\",\n",
        "    re.compile(r\"\\b'twas\\b\", re.I | re.U): \"it was\",\n",
        "    re.compile(r\"\\b'tween\\b\", re.I | re.U): \"between\",\n",
        "    re.compile(r\"\\b'twere\\b\", re.I | re.U): \"it were\",\n",
        "    re.compile(r\"\\bw'all\\b\", re.I | re.U): \"we all\",\n",
        "    re.compile(r\"\\bw'at\\b\", re.I | re.U): \"we at\",\n",
        "    re.compile(r\"\\bwanna\\b\", re.I | re.U): \"want to\",\n",
        "    re.compile(r\"\\bwasn't\\b\", re.I | re.U): \"was not\",\n",
        "    re.compile(r\"\\bwe'd've\\b\", re.I | re.U): \"we would have\",\n",
        "    re.compile(r\"\\bwe're\\b\", re.I | re.U): \"we are\",\n",
        "    re.compile(r\"\\bwe've\\b\", re.I | re.U): \"we have\",\n",
        "    re.compile(r\"\\bweren't\\b\", re.I | re.U): \"were not\",\n",
        "    re.compile(r\"\\bwhatcha\\b\", re.I | re.U): \"what are you\",\n",
        "    re.compile(r\"\\bwhat'd\\b\", re.I | re.U): \"what did\",\n",
        "    re.compile(r\"\\bwhat've\\b\", re.I | re.U): \"what have\",\n",
        "    re.compile(r\"\\bwhen'd\\b\", re.I | re.U): \"when did\",\n",
        "    re.compile(r\"\\bwhere'd\\b\", re.I | re.U): \"where did\",\n",
        "    re.compile(r\"\\bwhere're\\b\", re.I | re.U): \"where are\",\n",
        "    re.compile(r\"\\bwhere've\\b\", re.I | re.U): \"where have\",\n",
        "    re.compile(r\"\\bwhich're\\b\", re.I | re.U): \"which are\",\n",
        "    re.compile(r\"\\bwhich've\\b\", re.I | re.U): \"which have\",\n",
        "    re.compile(r\"\\bwho'd've\\b\", re.I | re.U): \"who would have\",\n",
        "    re.compile(r\"\\bwho're\\b\", re.I | re.U): \"who are\",\n",
        "    re.compile(r\"\\bwho've\\b\", re.I | re.U): \"who have\",\n",
        "    re.compile(r\"\\bwhy'd\\b\", re.I | re.U): \"why did\",\n",
        "    re.compile(r\"\\bwhy're\\b\", re.I | re.U): \"why are\",\n",
        "    re.compile(r\"\\bwilln't\\b\", re.I | re.U): \"will not\",\n",
        "    re.compile(r\"\\bwon't\\b\", re.I | re.U): \"will not\",\n",
        "    re.compile(r\"\\bwonnot\\b\", re.I | re.U): \"will not\",\n",
        "    re.compile(r\"\\bwould've\\b\", re.I | re.U): \"would have\",\n",
        "    re.compile(r\"\\bwouldn't\\b\", re.I | re.U): \"would not\",\n",
        "    re.compile(r\"\\bwouldn't've\\b\", re.I | re.U): \"would not have\",\n",
        "    re.compile(r\"\\by'all\\b\", re.I | re.U): \"you all\",\n",
        "    re.compile(r\"\\by'all'd've\\b\", re.I | re.U): \"you all would have\",\n",
        "    re.compile(r\"\\by'all'dn't've\\b\", re.I | re.U): \"you all would not have\",\n",
        "    re.compile(r\"\\by'all're\\b\", re.I | re.U): \"you all are\",\n",
        "    re.compile(r\"\\by'all'ren't\\b\", re.I | re.U): \"you all are not\",\n",
        "    re.compile(r\"\\by'at\\b\", re.I | re.U): \"you at\",\n",
        "    re.compile(r\"\\byes'm\\b\", re.I | re.U): \"yes madam\",\n",
        "    re.compile(r\"\\byever\\b\", re.I | re.U): \"have you ever\",\n",
        "    re.compile(r\"\\by'know\\b\", re.I | re.U): \"you know\",\n",
        "    re.compile(r\"\\byessir\\b\", re.I | re.U): \"yes sir\",\n",
        "    re.compile(r\"\\byou're\\b\", re.I | re.U): \"you are\",\n",
        "    re.compile(r\"\\byou've\\b\", re.I | re.U): \"you have\",\n",
        "    re.compile(r\"\\bhow's\\b\", re.I | re.U): \"is\",\n",
        "    re.compile(r\"\\bI'd\\b\", re.I | re.U): \"I would\",\n",
        "    re.compile(r\"\\bI'll\\b\", re.I | re.U): \"I will\",\n",
        "    re.compile(r\"\\bit'll\\b\", re.I | re.U): \"it will\",\n",
        "    re.compile(r\"\\bit's\\b\", re.I | re.U): \"it is\",\n",
        "    re.compile(r\"\\bshe'd\\b\", re.I | re.U): \"she would\",\n",
        "    re.compile(r\"\\bshe'll\\b\", re.I | re.U): \"she will\",\n",
        "    re.compile(r\"\\bshe's\\b\", re.I | re.U): \"she is\",\n",
        "    re.compile(r\"\\bsomebody's\\b\", re.I | re.U): \"somebody is\",\n",
        "    re.compile(r\"\\bsomeone's\\b\", re.I | re.U): \"someone is\",\n",
        "    re.compile(r\"\\bsomething's\\b\", re.I | re.U): \"something is\",\n",
        "    re.compile(r\"\\bso's\\b\", re.I | re.U): \"so is\",\n",
        "    re.compile(r\"\\bthat'll\\b\", re.I | re.U): \"that will\",\n",
        "    re.compile(r\"\\bthat's\\b\", re.I | re.U): \"that is\",\n",
        "    re.compile(r\"\\bthat'd\\b\", re.I | re.U): \"that would\",\n",
        "    re.compile(r\"\\bthere'd\\b\", re.I | re.U): \"there would\",\n",
        "    re.compile(r\"\\bthere'll\\b\", re.I | re.U): \"there will\",\n",
        "    re.compile(r\"\\bthere's\\b\", re.I | re.U): \"there is\",\n",
        "    re.compile(r\"\\bthey'd\\b\", re.I | re.U): \"they would\",\n",
        "    re.compile(r\"\\bthey'd've\\b\", re.I | re.U): \"they would have\",\n",
        "    re.compile(r\"\\bthey'll\\b\", re.I | re.U): \"they will\",\n",
        "    re.compile(r\"\\bthey're\\b\", re.I | re.U): \"they are\",\n",
        "    re.compile(r\"\\bthis's\\b\", re.I | re.U): \"this is\",\n",
        "    re.compile(r\"\\bwe'd\\b\", re.I | re.U): \"we would\",\n",
        "    re.compile(r\"\\bwe'll\\b\", re.I | re.U): \"we will\",\n",
        "    re.compile(r\"\\bwhat'll\\b\", re.I | re.U): \"what will\",\n",
        "    re.compile(r\"\\bwhat're\\b\", re.I | re.U): \"what are\",\n",
        "    re.compile(r\"\\bwhat's\\b\", re.I | re.U): \"what is\",\n",
        "    re.compile(r\"\\bwhen's\\b\", re.I | re.U): \"when is\",\n",
        "    re.compile(r\"\\bwhere'll\\b\", re.I | re.U): \"where will\",\n",
        "    re.compile(r\"\\bwhere's\\b\", re.I | re.U): \"where is\",\n",
        "    re.compile(r\"\\bwhich'd\\b\", re.I | re.U): \"which would\",\n",
        "    re.compile(r\"\\bwhich'll\\b\", re.I | re.U): \"which will\",\n",
        "    re.compile(r\"\\bwhich's\\b\", re.I | re.U): \"which is\",\n",
        "    re.compile(r\"\\bwho'd\\b\", re.I | re.U): \"who would\",\n",
        "    re.compile(r\"\\bwho'll\\b\", re.I | re.U): \"who will\",\n",
        "    re.compile(r\"\\bwho's\\b\", re.I | re.U): \"who is\",\n",
        "    re.compile(r\"\\bwhy's\\b\", re.I | re.U):  \"why is'\",\n",
        "    re.compile(r\"\\by'ain't\\b\", re.I | re.U): \"you are not\",\n",
        "    re.compile(r\"\\byou'd\\b\", re.I | re.U): \"you would\",\n",
        "    re.compile(r\"\\byou'll\\b\", re.I | re.U): \"you will\"\n",
        "}"
      ]
    },
    {
      "cell_type": "code",
      "execution_count": 17,
      "metadata": {
        "colab": {
          "base_uri": "https://localhost:8080/",
          "height": 206
        },
        "id": "qae2wQ1H0QMJ",
        "outputId": "546ed18a-7472-4c7c-f9e2-b0d90912dd28"
      },
      "outputs": [
        {
          "data": {
            "text/html": [
              "<div>\n",
              "<style scoped>\n",
              "    .dataframe tbody tr th:only-of-type {\n",
              "        vertical-align: middle;\n",
              "    }\n",
              "\n",
              "    .dataframe tbody tr th {\n",
              "        vertical-align: top;\n",
              "    }\n",
              "\n",
              "    .dataframe thead th {\n",
              "        text-align: right;\n",
              "    }\n",
              "</style>\n",
              "<table border=\"1\" class=\"dataframe\">\n",
              "  <thead>\n",
              "    <tr style=\"text-align: right;\">\n",
              "      <th></th>\n",
              "      <th>star_rating</th>\n",
              "      <th>review_text</th>\n",
              "      <th>sentiment_score</th>\n",
              "    </tr>\n",
              "  </thead>\n",
              "  <tbody>\n",
              "    <tr>\n",
              "      <th>0</th>\n",
              "      <td>5</td>\n",
              "      <td>five stars great product</td>\n",
              "      <td>1.0</td>\n",
              "    </tr>\n",
              "    <tr>\n",
              "      <th>1</th>\n",
              "      <td>5</td>\n",
              "      <td>phffffffft phfffffft lots of air and its cool ...</td>\n",
              "      <td>1.0</td>\n",
              "    </tr>\n",
              "    <tr>\n",
              "      <th>2</th>\n",
              "      <td>5</td>\n",
              "      <td>but i am sure i will like it havent used yet b...</td>\n",
              "      <td>1.0</td>\n",
              "    </tr>\n",
              "    <tr>\n",
              "      <th>3</th>\n",
              "      <td>4</td>\n",
              "      <td>four stars gorgeous colors and easy to use</td>\n",
              "      <td>1.0</td>\n",
              "    </tr>\n",
              "    <tr>\n",
              "      <th>4</th>\n",
              "      <td>5</td>\n",
              "      <td>five stars perfect for planning weekly meals r...</td>\n",
              "      <td>1.0</td>\n",
              "    </tr>\n",
              "  </tbody>\n",
              "</table>\n",
              "</div>"
            ],
            "text/plain": [
              "  star_rating                                        review_text  \\\n",
              "0           5                           five stars great product   \n",
              "1           5  phffffffft phfffffft lots of air and its cool ...   \n",
              "2           5  but i am sure i will like it havent used yet b...   \n",
              "3           4         four stars gorgeous colors and easy to use   \n",
              "4           5  five stars perfect for planning weekly meals r...   \n",
              "\n",
              "   sentiment_score  \n",
              "0              1.0  \n",
              "1              1.0  \n",
              "2              1.0  \n",
              "3              1.0  \n",
              "4              1.0  "
            ]
          },
          "execution_count": 17,
          "metadata": {},
          "output_type": "execute_result"
        }
      ],
      "source": [
        "# expand any contractions present in text\n",
        "def expand_contractions(text):\n",
        "    for pattern, substitute in contractions.items():\n",
        "        updated_text = pattern.sub(substitute, text)\n",
        "\n",
        "    return updated_text\n",
        "\n",
        "df[\"review_text\"] = df[\"review_text\"].apply(expand_contractions)\n",
        "\n",
        "df.head()\n"
      ]
    },
    {
      "cell_type": "code",
      "execution_count": 18,
      "metadata": {},
      "outputs": [
        {
          "name": "stdout",
          "output_type": "stream",
          "text": [
            "\n",
            "After cleaning\n",
            "Average length of a review:  209.92201\n"
          ]
        }
      ],
      "source": [
        "print(\"\\nAfter cleaning\")\n",
        "print(\"Average length of a review: \", df[\"review_text\"].apply(len).mean())"
      ]
    },
    {
      "cell_type": "markdown",
      "metadata": {
        "id": "R-fP02Z80QMK"
      },
      "source": [
        "# Pre-processing"
      ]
    },
    {
      "cell_type": "code",
      "execution_count": 19,
      "metadata": {},
      "outputs": [
        {
          "name": "stdout",
          "output_type": "stream",
          "text": [
            "Before preprocessing\n",
            "Average Length of a review:  209.92201\n"
          ]
        }
      ],
      "source": [
        "print(\"Before preprocessing\")\n",
        "print(\"Average Length of a review: \", df[\"review_text\"].apply(len).mean())"
      ]
    },
    {
      "cell_type": "code",
      "execution_count": 20,
      "metadata": {
        "id": "_a3xEpDi0QMK"
      },
      "outputs": [],
      "source": [
        "from nltk.corpus import stopwords\n",
        "from nltk.tokenize import word_tokenize\n",
        "from nltk.stem import WordNetLemmatizer\n",
        "\n",
        "df[\"review_text\"] = df[\"review_text\"].apply(word_tokenize)"
      ]
    },
    {
      "cell_type": "markdown",
      "metadata": {
        "id": "RcttVqL_0QMK"
      },
      "source": [
        "## remove the stop words"
      ]
    },
    {
      "cell_type": "code",
      "execution_count": 21,
      "metadata": {
        "colab": {
          "base_uri": "https://localhost:8080/",
          "height": 206
        },
        "id": "Svzq5jN80QMK",
        "outputId": "501d37ae-570c-4894-abee-7f35ccb30709"
      },
      "outputs": [
        {
          "data": {
            "text/html": [
              "<div>\n",
              "<style scoped>\n",
              "    .dataframe tbody tr th:only-of-type {\n",
              "        vertical-align: middle;\n",
              "    }\n",
              "\n",
              "    .dataframe tbody tr th {\n",
              "        vertical-align: top;\n",
              "    }\n",
              "\n",
              "    .dataframe thead th {\n",
              "        text-align: right;\n",
              "    }\n",
              "</style>\n",
              "<table border=\"1\" class=\"dataframe\">\n",
              "  <thead>\n",
              "    <tr style=\"text-align: right;\">\n",
              "      <th></th>\n",
              "      <th>star_rating</th>\n",
              "      <th>review_text</th>\n",
              "      <th>sentiment_score</th>\n",
              "    </tr>\n",
              "  </thead>\n",
              "  <tbody>\n",
              "    <tr>\n",
              "      <th>0</th>\n",
              "      <td>5</td>\n",
              "      <td>[five, stars, great, product]</td>\n",
              "      <td>1.0</td>\n",
              "    </tr>\n",
              "    <tr>\n",
              "      <th>1</th>\n",
              "      <td>5</td>\n",
              "      <td>[phffffffft, phfffffft, lots, air, cool, whats...</td>\n",
              "      <td>1.0</td>\n",
              "    </tr>\n",
              "    <tr>\n",
              "      <th>2</th>\n",
              "      <td>5</td>\n",
              "      <td>[sure, like, havent, used, yet, sure, like]</td>\n",
              "      <td>1.0</td>\n",
              "    </tr>\n",
              "    <tr>\n",
              "      <th>3</th>\n",
              "      <td>4</td>\n",
              "      <td>[four, stars, gorgeous, colors, easy, use]</td>\n",
              "      <td>1.0</td>\n",
              "    </tr>\n",
              "    <tr>\n",
              "      <th>4</th>\n",
              "      <td>5</td>\n",
              "      <td>[five, stars, perfect, planning, weekly, meals...</td>\n",
              "      <td>1.0</td>\n",
              "    </tr>\n",
              "  </tbody>\n",
              "</table>\n",
              "</div>"
            ],
            "text/plain": [
              "  star_rating                                        review_text  \\\n",
              "0           5                      [five, stars, great, product]   \n",
              "1           5  [phffffffft, phfffffft, lots, air, cool, whats...   \n",
              "2           5        [sure, like, havent, used, yet, sure, like]   \n",
              "3           4         [four, stars, gorgeous, colors, easy, use]   \n",
              "4           5  [five, stars, perfect, planning, weekly, meals...   \n",
              "\n",
              "   sentiment_score  \n",
              "0              1.0  \n",
              "1              1.0  \n",
              "2              1.0  \n",
              "3              1.0  \n",
              "4              1.0  "
            ]
          },
          "execution_count": 21,
          "metadata": {},
          "output_type": "execute_result"
        }
      ],
      "source": [
        "text_stopwords = stopwords.words(\"english\")\n",
        "\n",
        "df[\"review_text\"] = df[\"review_text\"].apply(lambda x: [token for token in x if token not in text_stopwords])\n",
        "\n",
        "df.head()"
      ]
    },
    {
      "cell_type": "markdown",
      "metadata": {
        "id": "V9dA4XQS0QMK"
      },
      "source": [
        "## perform lemmatization  "
      ]
    },
    {
      "cell_type": "code",
      "execution_count": 22,
      "metadata": {
        "colab": {
          "base_uri": "https://localhost:8080/",
          "height": 206
        },
        "id": "-8TR4FzQ0QML",
        "outputId": "fec85ae9-1dc7-4bd7-dbcf-dc4ec5035360"
      },
      "outputs": [
        {
          "data": {
            "text/html": [
              "<div>\n",
              "<style scoped>\n",
              "    .dataframe tbody tr th:only-of-type {\n",
              "        vertical-align: middle;\n",
              "    }\n",
              "\n",
              "    .dataframe tbody tr th {\n",
              "        vertical-align: top;\n",
              "    }\n",
              "\n",
              "    .dataframe thead th {\n",
              "        text-align: right;\n",
              "    }\n",
              "</style>\n",
              "<table border=\"1\" class=\"dataframe\">\n",
              "  <thead>\n",
              "    <tr style=\"text-align: right;\">\n",
              "      <th></th>\n",
              "      <th>star_rating</th>\n",
              "      <th>review_text</th>\n",
              "      <th>sentiment_score</th>\n",
              "    </tr>\n",
              "  </thead>\n",
              "  <tbody>\n",
              "    <tr>\n",
              "      <th>0</th>\n",
              "      <td>5</td>\n",
              "      <td>[five, star, great, product]</td>\n",
              "      <td>1.0</td>\n",
              "    </tr>\n",
              "    <tr>\n",
              "      <th>1</th>\n",
              "      <td>5</td>\n",
              "      <td>[phffffffft, phfffffft, lot, air, cool, whats,...</td>\n",
              "      <td>1.0</td>\n",
              "    </tr>\n",
              "    <tr>\n",
              "      <th>2</th>\n",
              "      <td>5</td>\n",
              "      <td>[sure, like, havent, used, yet, sure, like]</td>\n",
              "      <td>1.0</td>\n",
              "    </tr>\n",
              "    <tr>\n",
              "      <th>3</th>\n",
              "      <td>4</td>\n",
              "      <td>[four, star, gorgeous, color, easy, use]</td>\n",
              "      <td>1.0</td>\n",
              "    </tr>\n",
              "    <tr>\n",
              "      <th>4</th>\n",
              "      <td>5</td>\n",
              "      <td>[five, star, perfect, planning, weekly, meal, ...</td>\n",
              "      <td>1.0</td>\n",
              "    </tr>\n",
              "  </tbody>\n",
              "</table>\n",
              "</div>"
            ],
            "text/plain": [
              "  star_rating                                        review_text  \\\n",
              "0           5                       [five, star, great, product]   \n",
              "1           5  [phffffffft, phfffffft, lot, air, cool, whats,...   \n",
              "2           5        [sure, like, havent, used, yet, sure, like]   \n",
              "3           4           [four, star, gorgeous, color, easy, use]   \n",
              "4           5  [five, star, perfect, planning, weekly, meal, ...   \n",
              "\n",
              "   sentiment_score  \n",
              "0              1.0  \n",
              "1              1.0  \n",
              "2              1.0  \n",
              "3              1.0  \n",
              "4              1.0  "
            ]
          },
          "execution_count": 22,
          "metadata": {},
          "output_type": "execute_result"
        }
      ],
      "source": [
        "lemmatizer = WordNetLemmatizer()\n",
        "\n",
        "\n",
        "def lemmatization(tokens):\n",
        "\n",
        "    lemmas = [lemmatizer.lemmatize(\n",
        "        token) for token in tokens]\n",
        "\n",
        "    return lemmas\n",
        "\n",
        "\n",
        "df[\"review_text\"] = df[\"review_text\"].apply(lemmatization)\n",
        "\n",
        "df.head()"
      ]
    },
    {
      "cell_type": "code",
      "execution_count": 23,
      "metadata": {},
      "outputs": [],
      "source": [
        "df[\"review_text\"] = df[\"review_text\"].apply(lambda x: \" \".join(x))"
      ]
    },
    {
      "cell_type": "code",
      "execution_count": 24,
      "metadata": {},
      "outputs": [
        {
          "name": "stdout",
          "output_type": "stream",
          "text": [
            "After preprocessing\n",
            "Average Length of a review:  136.25533\n"
          ]
        }
      ],
      "source": [
        "print(\"After preprocessing\")\n",
        "print(\"Average Length of a review: \", df[\"review_text\"].apply(len).mean())"
      ]
    },
    {
      "cell_type": "markdown",
      "metadata": {
        "id": "ohI8cn9r0QML"
      },
      "source": [
        "# TF-IDF Feature Extraction"
      ]
    },
    {
      "cell_type": "code",
      "execution_count": 25,
      "metadata": {
        "colab": {
          "base_uri": "https://localhost:8080/",
          "height": 206
        },
        "id": "ZLIRFxaUKm1P",
        "outputId": "937116b2-7646-4f3e-ed38-618d9ab376e6"
      },
      "outputs": [
        {
          "data": {
            "text/html": [
              "<div>\n",
              "<style scoped>\n",
              "    .dataframe tbody tr th:only-of-type {\n",
              "        vertical-align: middle;\n",
              "    }\n",
              "\n",
              "    .dataframe tbody tr th {\n",
              "        vertical-align: top;\n",
              "    }\n",
              "\n",
              "    .dataframe thead th {\n",
              "        text-align: right;\n",
              "    }\n",
              "</style>\n",
              "<table border=\"1\" class=\"dataframe\">\n",
              "  <thead>\n",
              "    <tr style=\"text-align: right;\">\n",
              "      <th></th>\n",
              "      <th>review_text</th>\n",
              "      <th>sentiment_score</th>\n",
              "    </tr>\n",
              "  </thead>\n",
              "  <tbody>\n",
              "    <tr>\n",
              "      <th>0</th>\n",
              "      <td>five star great product</td>\n",
              "      <td>1.0</td>\n",
              "    </tr>\n",
              "    <tr>\n",
              "      <th>1</th>\n",
              "      <td>phffffffft phfffffft lot air cool whats say co...</td>\n",
              "      <td>1.0</td>\n",
              "    </tr>\n",
              "    <tr>\n",
              "      <th>2</th>\n",
              "      <td>sure like havent used yet sure like</td>\n",
              "      <td>1.0</td>\n",
              "    </tr>\n",
              "    <tr>\n",
              "      <th>3</th>\n",
              "      <td>four star gorgeous color easy use</td>\n",
              "      <td>1.0</td>\n",
              "    </tr>\n",
              "    <tr>\n",
              "      <th>4</th>\n",
              "      <td>five star perfect planning weekly meal removrd...</td>\n",
              "      <td>1.0</td>\n",
              "    </tr>\n",
              "  </tbody>\n",
              "</table>\n",
              "</div>"
            ],
            "text/plain": [
              "                                         review_text  sentiment_score\n",
              "0                            five star great product              1.0\n",
              "1  phffffffft phfffffft lot air cool whats say co...              1.0\n",
              "2                sure like havent used yet sure like              1.0\n",
              "3                  four star gorgeous color easy use              1.0\n",
              "4  five star perfect planning weekly meal removrd...              1.0"
            ]
          },
          "execution_count": 25,
          "metadata": {},
          "output_type": "execute_result"
        }
      ],
      "source": [
        "final_df = df[[\"review_text\", \"sentiment_score\"]]\n",
        "\n",
        "final_df.head()"
      ]
    },
    {
      "cell_type": "code",
      "execution_count": 26,
      "metadata": {
        "colab": {
          "base_uri": "https://localhost:8080/"
        },
        "id": "so2TJEvA0QML",
        "outputId": "531da7ff-f87f-4a26-b15f-1a2d4b97e70a"
      },
      "outputs": [
        {
          "data": {
            "text/html": [
              "<div>\n",
              "<style scoped>\n",
              "    .dataframe tbody tr th:only-of-type {\n",
              "        vertical-align: middle;\n",
              "    }\n",
              "\n",
              "    .dataframe tbody tr th {\n",
              "        vertical-align: top;\n",
              "    }\n",
              "\n",
              "    .dataframe thead th {\n",
              "        text-align: right;\n",
              "    }\n",
              "</style>\n",
              "<table border=\"1\" class=\"dataframe\">\n",
              "  <thead>\n",
              "    <tr style=\"text-align: right;\">\n",
              "      <th></th>\n",
              "      <th>review_text</th>\n",
              "      <th>sentiment_score</th>\n",
              "      <th>aa</th>\n",
              "      <th>aaa</th>\n",
              "      <th>aaaa</th>\n",
              "      <th>aaaaa</th>\n",
              "      <th>aaaaaa</th>\n",
              "      <th>aastra</th>\n",
              "      <th>aaxa</th>\n",
              "      <th>aaxo</th>\n",
              "      <th>...</th>\n",
              "      <th>zipping</th>\n",
              "      <th>zipties</th>\n",
              "      <th>zire</th>\n",
              "      <th>zlyc</th>\n",
              "      <th>zombie</th>\n",
              "      <th>zone</th>\n",
              "      <th>zoom</th>\n",
              "      <th>zp</th>\n",
              "      <th>zv</th>\n",
              "      <th>zzip</th>\n",
              "    </tr>\n",
              "  </thead>\n",
              "  <tbody>\n",
              "    <tr>\n",
              "      <th>0</th>\n",
              "      <td>five star great product</td>\n",
              "      <td>1.0</td>\n",
              "      <td>0.0</td>\n",
              "      <td>0.0</td>\n",
              "      <td>0.0</td>\n",
              "      <td>0.0</td>\n",
              "      <td>0.0</td>\n",
              "      <td>0.0</td>\n",
              "      <td>0.0</td>\n",
              "      <td>0.0</td>\n",
              "      <td>...</td>\n",
              "      <td>0.0</td>\n",
              "      <td>0.0</td>\n",
              "      <td>0.0</td>\n",
              "      <td>0.0</td>\n",
              "      <td>0.0</td>\n",
              "      <td>0.0</td>\n",
              "      <td>0.0</td>\n",
              "      <td>0.0</td>\n",
              "      <td>0.0</td>\n",
              "      <td>0.0</td>\n",
              "    </tr>\n",
              "    <tr>\n",
              "      <th>1</th>\n",
              "      <td>phffffffft phfffffft lot air cool whats say co...</td>\n",
              "      <td>1.0</td>\n",
              "      <td>0.0</td>\n",
              "      <td>0.0</td>\n",
              "      <td>0.0</td>\n",
              "      <td>0.0</td>\n",
              "      <td>0.0</td>\n",
              "      <td>0.0</td>\n",
              "      <td>0.0</td>\n",
              "      <td>0.0</td>\n",
              "      <td>...</td>\n",
              "      <td>0.0</td>\n",
              "      <td>0.0</td>\n",
              "      <td>0.0</td>\n",
              "      <td>0.0</td>\n",
              "      <td>0.0</td>\n",
              "      <td>0.0</td>\n",
              "      <td>0.0</td>\n",
              "      <td>0.0</td>\n",
              "      <td>0.0</td>\n",
              "      <td>0.0</td>\n",
              "    </tr>\n",
              "    <tr>\n",
              "      <th>2</th>\n",
              "      <td>sure like havent used yet sure like</td>\n",
              "      <td>1.0</td>\n",
              "      <td>0.0</td>\n",
              "      <td>0.0</td>\n",
              "      <td>0.0</td>\n",
              "      <td>0.0</td>\n",
              "      <td>0.0</td>\n",
              "      <td>0.0</td>\n",
              "      <td>0.0</td>\n",
              "      <td>0.0</td>\n",
              "      <td>...</td>\n",
              "      <td>0.0</td>\n",
              "      <td>0.0</td>\n",
              "      <td>0.0</td>\n",
              "      <td>0.0</td>\n",
              "      <td>0.0</td>\n",
              "      <td>0.0</td>\n",
              "      <td>0.0</td>\n",
              "      <td>0.0</td>\n",
              "      <td>0.0</td>\n",
              "      <td>0.0</td>\n",
              "    </tr>\n",
              "    <tr>\n",
              "      <th>3</th>\n",
              "      <td>four star gorgeous color easy use</td>\n",
              "      <td>1.0</td>\n",
              "      <td>0.0</td>\n",
              "      <td>0.0</td>\n",
              "      <td>0.0</td>\n",
              "      <td>0.0</td>\n",
              "      <td>0.0</td>\n",
              "      <td>0.0</td>\n",
              "      <td>0.0</td>\n",
              "      <td>0.0</td>\n",
              "      <td>...</td>\n",
              "      <td>0.0</td>\n",
              "      <td>0.0</td>\n",
              "      <td>0.0</td>\n",
              "      <td>0.0</td>\n",
              "      <td>0.0</td>\n",
              "      <td>0.0</td>\n",
              "      <td>0.0</td>\n",
              "      <td>0.0</td>\n",
              "      <td>0.0</td>\n",
              "      <td>0.0</td>\n",
              "    </tr>\n",
              "    <tr>\n",
              "      <th>4</th>\n",
              "      <td>five star perfect planning weekly meal removrd...</td>\n",
              "      <td>1.0</td>\n",
              "      <td>0.0</td>\n",
              "      <td>0.0</td>\n",
              "      <td>0.0</td>\n",
              "      <td>0.0</td>\n",
              "      <td>0.0</td>\n",
              "      <td>0.0</td>\n",
              "      <td>0.0</td>\n",
              "      <td>0.0</td>\n",
              "      <td>...</td>\n",
              "      <td>0.0</td>\n",
              "      <td>0.0</td>\n",
              "      <td>0.0</td>\n",
              "      <td>0.0</td>\n",
              "      <td>0.0</td>\n",
              "      <td>0.0</td>\n",
              "      <td>0.0</td>\n",
              "      <td>0.0</td>\n",
              "      <td>0.0</td>\n",
              "      <td>0.0</td>\n",
              "    </tr>\n",
              "  </tbody>\n",
              "</table>\n",
              "<p>5 rows × 15002 columns</p>\n",
              "</div>"
            ],
            "text/plain": [
              "                                         review_text  sentiment_score   aa  \\\n",
              "0                            five star great product              1.0  0.0   \n",
              "1  phffffffft phfffffft lot air cool whats say co...              1.0  0.0   \n",
              "2                sure like havent used yet sure like              1.0  0.0   \n",
              "3                  four star gorgeous color easy use              1.0  0.0   \n",
              "4  five star perfect planning weekly meal removrd...              1.0  0.0   \n",
              "\n",
              "   aaa  aaaa  aaaaa  aaaaaa  aastra  aaxa  aaxo  ...  zipping  zipties  zire  \\\n",
              "0  0.0   0.0    0.0     0.0     0.0   0.0   0.0  ...      0.0      0.0   0.0   \n",
              "1  0.0   0.0    0.0     0.0     0.0   0.0   0.0  ...      0.0      0.0   0.0   \n",
              "2  0.0   0.0    0.0     0.0     0.0   0.0   0.0  ...      0.0      0.0   0.0   \n",
              "3  0.0   0.0    0.0     0.0     0.0   0.0   0.0  ...      0.0      0.0   0.0   \n",
              "4  0.0   0.0    0.0     0.0     0.0   0.0   0.0  ...      0.0      0.0   0.0   \n",
              "\n",
              "   zlyc  zombie  zone  zoom   zp   zv  zzip  \n",
              "0   0.0     0.0   0.0   0.0  0.0  0.0   0.0  \n",
              "1   0.0     0.0   0.0   0.0  0.0  0.0   0.0  \n",
              "2   0.0     0.0   0.0   0.0  0.0  0.0   0.0  \n",
              "3   0.0     0.0   0.0   0.0  0.0  0.0   0.0  \n",
              "4   0.0     0.0   0.0   0.0  0.0  0.0   0.0  \n",
              "\n",
              "[5 rows x 15002 columns]"
            ]
          },
          "execution_count": 26,
          "metadata": {},
          "output_type": "execute_result"
        }
      ],
      "source": [
        "from sklearn.feature_extraction.text import TfidfVectorizer\n",
        "\n",
        "vectoriser = TfidfVectorizer(max_features=15000)\n",
        "\n",
        "ip_feature_vector = vectoriser.fit_transform(final_df[\"review_text\"])\n",
        "\n",
        "features = vectoriser.get_feature_names_out()\n",
        "\n",
        "feature_vector_df = pd.DataFrame(ip_feature_vector.toarray(), columns=features)\n",
        "\n",
        "final_df = pd.concat([final_df, feature_vector_df], axis=1)\n",
        "\n",
        "final_df.head()"
      ]
    },
    {
      "cell_type": "code",
      "execution_count": 27,
      "metadata": {},
      "outputs": [],
      "source": [
        "ip_data = final_df.iloc[:,2:]\n",
        "op_data = final_df[\"sentiment_score\"]"
      ]
    },
    {
      "cell_type": "code",
      "execution_count": 28,
      "metadata": {},
      "outputs": [],
      "source": [
        "from sklearn.model_selection import train_test_split\n",
        "from sklearn.metrics import classification_report\n",
        "\n",
        "ip_train, ip_test, op_train, op_test = train_test_split(ip_data, op_data, test_size=0.2, random_state=10)"
      ]
    },
    {
      "cell_type": "code",
      "execution_count": 29,
      "metadata": {},
      "outputs": [
        {
          "data": {
            "text/html": [
              "<div>\n",
              "<style scoped>\n",
              "    .dataframe tbody tr th:only-of-type {\n",
              "        vertical-align: middle;\n",
              "    }\n",
              "\n",
              "    .dataframe tbody tr th {\n",
              "        vertical-align: top;\n",
              "    }\n",
              "\n",
              "    .dataframe thead th {\n",
              "        text-align: right;\n",
              "    }\n",
              "</style>\n",
              "<table border=\"1\" class=\"dataframe\">\n",
              "  <thead>\n",
              "    <tr style=\"text-align: right;\">\n",
              "      <th></th>\n",
              "      <th>aa</th>\n",
              "      <th>aaa</th>\n",
              "      <th>aaaa</th>\n",
              "      <th>aaaaa</th>\n",
              "      <th>aaaaaa</th>\n",
              "      <th>aastra</th>\n",
              "      <th>aaxa</th>\n",
              "      <th>aaxo</th>\n",
              "      <th>ab</th>\n",
              "      <th>aback</th>\n",
              "      <th>...</th>\n",
              "      <th>zipping</th>\n",
              "      <th>zipties</th>\n",
              "      <th>zire</th>\n",
              "      <th>zlyc</th>\n",
              "      <th>zombie</th>\n",
              "      <th>zone</th>\n",
              "      <th>zoom</th>\n",
              "      <th>zp</th>\n",
              "      <th>zv</th>\n",
              "      <th>zzip</th>\n",
              "    </tr>\n",
              "  </thead>\n",
              "  <tbody>\n",
              "    <tr>\n",
              "      <th>62732</th>\n",
              "      <td>0.0</td>\n",
              "      <td>0.0</td>\n",
              "      <td>0.0</td>\n",
              "      <td>0.0</td>\n",
              "      <td>0.0</td>\n",
              "      <td>0.0</td>\n",
              "      <td>0.0</td>\n",
              "      <td>0.0</td>\n",
              "      <td>0.0</td>\n",
              "      <td>0.0</td>\n",
              "      <td>...</td>\n",
              "      <td>0.0</td>\n",
              "      <td>0.0</td>\n",
              "      <td>0.0</td>\n",
              "      <td>0.0</td>\n",
              "      <td>0.0</td>\n",
              "      <td>0.0</td>\n",
              "      <td>0.0</td>\n",
              "      <td>0.0</td>\n",
              "      <td>0.0</td>\n",
              "      <td>0.0</td>\n",
              "    </tr>\n",
              "    <tr>\n",
              "      <th>130248</th>\n",
              "      <td>0.0</td>\n",
              "      <td>0.0</td>\n",
              "      <td>0.0</td>\n",
              "      <td>0.0</td>\n",
              "      <td>0.0</td>\n",
              "      <td>0.0</td>\n",
              "      <td>0.0</td>\n",
              "      <td>0.0</td>\n",
              "      <td>0.0</td>\n",
              "      <td>0.0</td>\n",
              "      <td>...</td>\n",
              "      <td>0.0</td>\n",
              "      <td>0.0</td>\n",
              "      <td>0.0</td>\n",
              "      <td>0.0</td>\n",
              "      <td>0.0</td>\n",
              "      <td>0.0</td>\n",
              "      <td>0.0</td>\n",
              "      <td>0.0</td>\n",
              "      <td>0.0</td>\n",
              "      <td>0.0</td>\n",
              "    </tr>\n",
              "    <tr>\n",
              "      <th>182454</th>\n",
              "      <td>0.0</td>\n",
              "      <td>0.0</td>\n",
              "      <td>0.0</td>\n",
              "      <td>0.0</td>\n",
              "      <td>0.0</td>\n",
              "      <td>0.0</td>\n",
              "      <td>0.0</td>\n",
              "      <td>0.0</td>\n",
              "      <td>0.0</td>\n",
              "      <td>0.0</td>\n",
              "      <td>...</td>\n",
              "      <td>0.0</td>\n",
              "      <td>0.0</td>\n",
              "      <td>0.0</td>\n",
              "      <td>0.0</td>\n",
              "      <td>0.0</td>\n",
              "      <td>0.0</td>\n",
              "      <td>0.0</td>\n",
              "      <td>0.0</td>\n",
              "      <td>0.0</td>\n",
              "      <td>0.0</td>\n",
              "    </tr>\n",
              "    <tr>\n",
              "      <th>158745</th>\n",
              "      <td>0.0</td>\n",
              "      <td>0.0</td>\n",
              "      <td>0.0</td>\n",
              "      <td>0.0</td>\n",
              "      <td>0.0</td>\n",
              "      <td>0.0</td>\n",
              "      <td>0.0</td>\n",
              "      <td>0.0</td>\n",
              "      <td>0.0</td>\n",
              "      <td>0.0</td>\n",
              "      <td>...</td>\n",
              "      <td>0.0</td>\n",
              "      <td>0.0</td>\n",
              "      <td>0.0</td>\n",
              "      <td>0.0</td>\n",
              "      <td>0.0</td>\n",
              "      <td>0.0</td>\n",
              "      <td>0.0</td>\n",
              "      <td>0.0</td>\n",
              "      <td>0.0</td>\n",
              "      <td>0.0</td>\n",
              "    </tr>\n",
              "    <tr>\n",
              "      <th>176029</th>\n",
              "      <td>0.0</td>\n",
              "      <td>0.0</td>\n",
              "      <td>0.0</td>\n",
              "      <td>0.0</td>\n",
              "      <td>0.0</td>\n",
              "      <td>0.0</td>\n",
              "      <td>0.0</td>\n",
              "      <td>0.0</td>\n",
              "      <td>0.0</td>\n",
              "      <td>0.0</td>\n",
              "      <td>...</td>\n",
              "      <td>0.0</td>\n",
              "      <td>0.0</td>\n",
              "      <td>0.0</td>\n",
              "      <td>0.0</td>\n",
              "      <td>0.0</td>\n",
              "      <td>0.0</td>\n",
              "      <td>0.0</td>\n",
              "      <td>0.0</td>\n",
              "      <td>0.0</td>\n",
              "      <td>0.0</td>\n",
              "    </tr>\n",
              "  </tbody>\n",
              "</table>\n",
              "<p>5 rows × 15000 columns</p>\n",
              "</div>"
            ],
            "text/plain": [
              "         aa  aaa  aaaa  aaaaa  aaaaaa  aastra  aaxa  aaxo   ab  aback  ...  \\\n",
              "62732   0.0  0.0   0.0    0.0     0.0     0.0   0.0   0.0  0.0    0.0  ...   \n",
              "130248  0.0  0.0   0.0    0.0     0.0     0.0   0.0   0.0  0.0    0.0  ...   \n",
              "182454  0.0  0.0   0.0    0.0     0.0     0.0   0.0   0.0  0.0    0.0  ...   \n",
              "158745  0.0  0.0   0.0    0.0     0.0     0.0   0.0   0.0  0.0    0.0  ...   \n",
              "176029  0.0  0.0   0.0    0.0     0.0     0.0   0.0   0.0  0.0    0.0  ...   \n",
              "\n",
              "        zipping  zipties  zire  zlyc  zombie  zone  zoom   zp   zv  zzip  \n",
              "62732       0.0      0.0   0.0   0.0     0.0   0.0   0.0  0.0  0.0   0.0  \n",
              "130248      0.0      0.0   0.0   0.0     0.0   0.0   0.0  0.0  0.0   0.0  \n",
              "182454      0.0      0.0   0.0   0.0     0.0   0.0   0.0  0.0  0.0   0.0  \n",
              "158745      0.0      0.0   0.0   0.0     0.0   0.0   0.0  0.0  0.0   0.0  \n",
              "176029      0.0      0.0   0.0   0.0     0.0   0.0   0.0  0.0  0.0   0.0  \n",
              "\n",
              "[5 rows x 15000 columns]"
            ]
          },
          "execution_count": 29,
          "metadata": {},
          "output_type": "execute_result"
        }
      ],
      "source": [
        "ip_train.head()"
      ]
    },
    {
      "cell_type": "code",
      "execution_count": 30,
      "metadata": {},
      "outputs": [
        {
          "data": {
            "text/plain": [
              "0    1.0\n",
              "1    1.0\n",
              "2    1.0\n",
              "3    1.0\n",
              "4    1.0\n",
              "Name: sentiment_score, dtype: float64"
            ]
          },
          "execution_count": 30,
          "metadata": {},
          "output_type": "execute_result"
        }
      ],
      "source": [
        "op_data.head()"
      ]
    },
    {
      "cell_type": "markdown",
      "metadata": {},
      "source": [
        "##### Code Report Helper\n"
      ]
    },
    {
      "cell_type": "code",
      "execution_count": 31,
      "metadata": {},
      "outputs": [],
      "source": [
        "def get_report(actual, predicted):\n",
        "  report = classification_report(actual, predicted, output_dict=True)\n",
        "  accuracy = report[\"accuracy\"]\n",
        "  scores = report[\"macro avg\"]\n",
        "  precision = scores[\"precision\"]\n",
        "  recall = scores[\"recall\"]\n",
        "  f1 = scores[\"f1-score\"]\n",
        "\n",
        "  return (accuracy, precision, recall, f1)\n"
      ]
    },
    {
      "cell_type": "markdown",
      "metadata": {
        "id": "a2mkQjRn0QML"
      },
      "source": [
        "# Perceptron"
      ]
    },
    {
      "cell_type": "code",
      "execution_count": 32,
      "metadata": {
        "colab": {
          "background_save": true
        },
        "id": "XUV2hVsJ0QML"
      },
      "outputs": [
        {
          "data": {
            "text/html": [
              "<style>#sk-container-id-1 {color: black;}#sk-container-id-1 pre{padding: 0;}#sk-container-id-1 div.sk-toggleable {background-color: white;}#sk-container-id-1 label.sk-toggleable__label {cursor: pointer;display: block;width: 100%;margin-bottom: 0;padding: 0.3em;box-sizing: border-box;text-align: center;}#sk-container-id-1 label.sk-toggleable__label-arrow:before {content: \"▸\";float: left;margin-right: 0.25em;color: #696969;}#sk-container-id-1 label.sk-toggleable__label-arrow:hover:before {color: black;}#sk-container-id-1 div.sk-estimator:hover label.sk-toggleable__label-arrow:before {color: black;}#sk-container-id-1 div.sk-toggleable__content {max-height: 0;max-width: 0;overflow: hidden;text-align: left;background-color: #f0f8ff;}#sk-container-id-1 div.sk-toggleable__content pre {margin: 0.2em;color: black;border-radius: 0.25em;background-color: #f0f8ff;}#sk-container-id-1 input.sk-toggleable__control:checked~div.sk-toggleable__content {max-height: 200px;max-width: 100%;overflow: auto;}#sk-container-id-1 input.sk-toggleable__control:checked~label.sk-toggleable__label-arrow:before {content: \"▾\";}#sk-container-id-1 div.sk-estimator input.sk-toggleable__control:checked~label.sk-toggleable__label {background-color: #d4ebff;}#sk-container-id-1 div.sk-label input.sk-toggleable__control:checked~label.sk-toggleable__label {background-color: #d4ebff;}#sk-container-id-1 input.sk-hidden--visually {border: 0;clip: rect(1px 1px 1px 1px);clip: rect(1px, 1px, 1px, 1px);height: 1px;margin: -1px;overflow: hidden;padding: 0;position: absolute;width: 1px;}#sk-container-id-1 div.sk-estimator {font-family: monospace;background-color: #f0f8ff;border: 1px dotted black;border-radius: 0.25em;box-sizing: border-box;margin-bottom: 0.5em;}#sk-container-id-1 div.sk-estimator:hover {background-color: #d4ebff;}#sk-container-id-1 div.sk-parallel-item::after {content: \"\";width: 100%;border-bottom: 1px solid gray;flex-grow: 1;}#sk-container-id-1 div.sk-label:hover label.sk-toggleable__label {background-color: #d4ebff;}#sk-container-id-1 div.sk-serial::before {content: \"\";position: absolute;border-left: 1px solid gray;box-sizing: border-box;top: 0;bottom: 0;left: 50%;z-index: 0;}#sk-container-id-1 div.sk-serial {display: flex;flex-direction: column;align-items: center;background-color: white;padding-right: 0.2em;padding-left: 0.2em;position: relative;}#sk-container-id-1 div.sk-item {position: relative;z-index: 1;}#sk-container-id-1 div.sk-parallel {display: flex;align-items: stretch;justify-content: center;background-color: white;position: relative;}#sk-container-id-1 div.sk-item::before, #sk-container-id-1 div.sk-parallel-item::before {content: \"\";position: absolute;border-left: 1px solid gray;box-sizing: border-box;top: 0;bottom: 0;left: 50%;z-index: -1;}#sk-container-id-1 div.sk-parallel-item {display: flex;flex-direction: column;z-index: 1;position: relative;background-color: white;}#sk-container-id-1 div.sk-parallel-item:first-child::after {align-self: flex-end;width: 50%;}#sk-container-id-1 div.sk-parallel-item:last-child::after {align-self: flex-start;width: 50%;}#sk-container-id-1 div.sk-parallel-item:only-child::after {width: 0;}#sk-container-id-1 div.sk-dashed-wrapped {border: 1px dashed gray;margin: 0 0.4em 0.5em 0.4em;box-sizing: border-box;padding-bottom: 0.4em;background-color: white;}#sk-container-id-1 div.sk-label label {font-family: monospace;font-weight: bold;display: inline-block;line-height: 1.2em;}#sk-container-id-1 div.sk-label-container {text-align: center;}#sk-container-id-1 div.sk-container {/* jupyter's `normalize.less` sets `[hidden] { display: none; }` but bootstrap.min.css set `[hidden] { display: none !important; }` so we also need the `!important` here to be able to override the default hidden behavior on the sphinx rendered scikit-learn.org. See: https://github.com/scikit-learn/scikit-learn/issues/21755 */display: inline-block !important;position: relative;}#sk-container-id-1 div.sk-text-repr-fallback {display: none;}</style><div id=\"sk-container-id-1\" class=\"sk-top-container\"><div class=\"sk-text-repr-fallback\"><pre>Perceptron(random_state=5)</pre><b>In a Jupyter environment, please rerun this cell to show the HTML representation or trust the notebook. <br />On GitHub, the HTML representation is unable to render, please try loading this page with nbviewer.org.</b></div><div class=\"sk-container\" hidden><div class=\"sk-item\"><div class=\"sk-estimator sk-toggleable\"><input class=\"sk-toggleable__control sk-hidden--visually\" id=\"sk-estimator-id-1\" type=\"checkbox\" checked><label for=\"sk-estimator-id-1\" class=\"sk-toggleable__label sk-toggleable__label-arrow\">Perceptron</label><div class=\"sk-toggleable__content\"><pre>Perceptron(random_state=5)</pre></div></div></div></div></div>"
            ],
            "text/plain": [
              "Perceptron(random_state=5)"
            ]
          },
          "execution_count": 32,
          "metadata": {},
          "output_type": "execute_result"
        }
      ],
      "source": [
        "from sklearn.linear_model import Perceptron\n",
        "\n",
        "per_classifier = Perceptron(random_state=5)\n",
        "\n",
        "per_classifier.fit(ip_train, op_train)"
      ]
    },
    {
      "cell_type": "code",
      "execution_count": 33,
      "metadata": {},
      "outputs": [
        {
          "name": "stdout",
          "output_type": "stream",
          "text": [
            "Perceptron Scores\n",
            "Train Scores: \n",
            "Accuracy, Precision, Recall, F1\n",
            "0.95029375 , 0.9506854542114104 , 0.950298930474119 , 0.9502833420798422\n",
            "Test Scores: \n",
            "Accuracy, Precision, Recall, F1\n",
            "0.924575 , 0.9250052101166015 , 0.9245529771238352 , 0.9245531316780626\n"
          ]
        }
      ],
      "source": [
        "op_pred_train = per_classifier.predict(ip_train)\n",
        "\n",
        "accuracy, precision, recall, f1 = get_report(op_train, op_pred_train)\n",
        "\n",
        "print(\"Perceptron Scores\")\n",
        "print(\"Train Scores: \")\n",
        "print(\"Accuracy, Precision, Recall, F1\")\n",
        "print(accuracy, \",\", precision, \",\", recall, \",\", f1)\n",
        "\n",
        "op_pred_test = per_classifier.predict(ip_test)\n",
        "\n",
        "accuracy, precision, recall, f1 = get_report(op_test, op_pred_test)\n",
        "\n",
        "print(\"Test Scores: \")\n",
        "print(\"Accuracy, Precision, Recall, F1\")\n",
        "print(accuracy, \",\", precision, \",\", recall, \",\", f1)"
      ]
    },
    {
      "cell_type": "markdown",
      "metadata": {
        "id": "2OoWJxW_0QML"
      },
      "source": [
        "# SVM"
      ]
    },
    {
      "cell_type": "code",
      "execution_count": 34,
      "metadata": {
        "colab": {
          "background_save": true
        },
        "id": "8Z2fiqYu0QMM"
      },
      "outputs": [
        {
          "name": "stderr",
          "output_type": "stream",
          "text": [
            "/usr/local/lib/python3.11/site-packages/sklearn/svm/_classes.py:32: FutureWarning: The default value of `dual` will change from `True` to `'auto'` in 1.5. Set the value of `dual` explicitly to suppress the warning.\n",
            "  warnings.warn(\n"
          ]
        },
        {
          "data": {
            "text/html": [
              "<style>#sk-container-id-2 {color: black;}#sk-container-id-2 pre{padding: 0;}#sk-container-id-2 div.sk-toggleable {background-color: white;}#sk-container-id-2 label.sk-toggleable__label {cursor: pointer;display: block;width: 100%;margin-bottom: 0;padding: 0.3em;box-sizing: border-box;text-align: center;}#sk-container-id-2 label.sk-toggleable__label-arrow:before {content: \"▸\";float: left;margin-right: 0.25em;color: #696969;}#sk-container-id-2 label.sk-toggleable__label-arrow:hover:before {color: black;}#sk-container-id-2 div.sk-estimator:hover label.sk-toggleable__label-arrow:before {color: black;}#sk-container-id-2 div.sk-toggleable__content {max-height: 0;max-width: 0;overflow: hidden;text-align: left;background-color: #f0f8ff;}#sk-container-id-2 div.sk-toggleable__content pre {margin: 0.2em;color: black;border-radius: 0.25em;background-color: #f0f8ff;}#sk-container-id-2 input.sk-toggleable__control:checked~div.sk-toggleable__content {max-height: 200px;max-width: 100%;overflow: auto;}#sk-container-id-2 input.sk-toggleable__control:checked~label.sk-toggleable__label-arrow:before {content: \"▾\";}#sk-container-id-2 div.sk-estimator input.sk-toggleable__control:checked~label.sk-toggleable__label {background-color: #d4ebff;}#sk-container-id-2 div.sk-label input.sk-toggleable__control:checked~label.sk-toggleable__label {background-color: #d4ebff;}#sk-container-id-2 input.sk-hidden--visually {border: 0;clip: rect(1px 1px 1px 1px);clip: rect(1px, 1px, 1px, 1px);height: 1px;margin: -1px;overflow: hidden;padding: 0;position: absolute;width: 1px;}#sk-container-id-2 div.sk-estimator {font-family: monospace;background-color: #f0f8ff;border: 1px dotted black;border-radius: 0.25em;box-sizing: border-box;margin-bottom: 0.5em;}#sk-container-id-2 div.sk-estimator:hover {background-color: #d4ebff;}#sk-container-id-2 div.sk-parallel-item::after {content: \"\";width: 100%;border-bottom: 1px solid gray;flex-grow: 1;}#sk-container-id-2 div.sk-label:hover label.sk-toggleable__label {background-color: #d4ebff;}#sk-container-id-2 div.sk-serial::before {content: \"\";position: absolute;border-left: 1px solid gray;box-sizing: border-box;top: 0;bottom: 0;left: 50%;z-index: 0;}#sk-container-id-2 div.sk-serial {display: flex;flex-direction: column;align-items: center;background-color: white;padding-right: 0.2em;padding-left: 0.2em;position: relative;}#sk-container-id-2 div.sk-item {position: relative;z-index: 1;}#sk-container-id-2 div.sk-parallel {display: flex;align-items: stretch;justify-content: center;background-color: white;position: relative;}#sk-container-id-2 div.sk-item::before, #sk-container-id-2 div.sk-parallel-item::before {content: \"\";position: absolute;border-left: 1px solid gray;box-sizing: border-box;top: 0;bottom: 0;left: 50%;z-index: -1;}#sk-container-id-2 div.sk-parallel-item {display: flex;flex-direction: column;z-index: 1;position: relative;background-color: white;}#sk-container-id-2 div.sk-parallel-item:first-child::after {align-self: flex-end;width: 50%;}#sk-container-id-2 div.sk-parallel-item:last-child::after {align-self: flex-start;width: 50%;}#sk-container-id-2 div.sk-parallel-item:only-child::after {width: 0;}#sk-container-id-2 div.sk-dashed-wrapped {border: 1px dashed gray;margin: 0 0.4em 0.5em 0.4em;box-sizing: border-box;padding-bottom: 0.4em;background-color: white;}#sk-container-id-2 div.sk-label label {font-family: monospace;font-weight: bold;display: inline-block;line-height: 1.2em;}#sk-container-id-2 div.sk-label-container {text-align: center;}#sk-container-id-2 div.sk-container {/* jupyter's `normalize.less` sets `[hidden] { display: none; }` but bootstrap.min.css set `[hidden] { display: none !important; }` so we also need the `!important` here to be able to override the default hidden behavior on the sphinx rendered scikit-learn.org. See: https://github.com/scikit-learn/scikit-learn/issues/21755 */display: inline-block !important;position: relative;}#sk-container-id-2 div.sk-text-repr-fallback {display: none;}</style><div id=\"sk-container-id-2\" class=\"sk-top-container\"><div class=\"sk-text-repr-fallback\"><pre>LinearSVC(random_state=5)</pre><b>In a Jupyter environment, please rerun this cell to show the HTML representation or trust the notebook. <br />On GitHub, the HTML representation is unable to render, please try loading this page with nbviewer.org.</b></div><div class=\"sk-container\" hidden><div class=\"sk-item\"><div class=\"sk-estimator sk-toggleable\"><input class=\"sk-toggleable__control sk-hidden--visually\" id=\"sk-estimator-id-2\" type=\"checkbox\" checked><label for=\"sk-estimator-id-2\" class=\"sk-toggleable__label sk-toggleable__label-arrow\">LinearSVC</label><div class=\"sk-toggleable__content\"><pre>LinearSVC(random_state=5)</pre></div></div></div></div></div>"
            ],
            "text/plain": [
              "LinearSVC(random_state=5)"
            ]
          },
          "execution_count": 34,
          "metadata": {},
          "output_type": "execute_result"
        }
      ],
      "source": [
        "from sklearn.svm import LinearSVC\n",
        "\n",
        "svm_classifier = LinearSVC(random_state=5)\n",
        "\n",
        "svm_classifier.fit(ip_train, op_train)"
      ]
    },
    {
      "cell_type": "code",
      "execution_count": 35,
      "metadata": {},
      "outputs": [
        {
          "name": "stdout",
          "output_type": "stream",
          "text": [
            "SVM Scores\n",
            "Train Scores: \n",
            "Accuracy, Precision, Recall, F1\n",
            "0.959 , 0.9590080441287061 , 0.9590007562275926 , 0.9589998634439202\n",
            "Test Scores: \n",
            "Accuracy, Precision, Recall, F1\n",
            "0.938625 , 0.9386308957561194 , 0.9386226747004425 , 0.9386244567880829\n"
          ]
        }
      ],
      "source": [
        "op_pred_train = svm_classifier.predict(ip_train)\n",
        "\n",
        "accuracy, precision, recall, f1 = get_report(op_train, op_pred_train)\n",
        "\n",
        "print(\"SVM Scores\")\n",
        "print(\"Train Scores: \")\n",
        "print(\"Accuracy, Precision, Recall, F1\")\n",
        "print(accuracy, \",\", precision, \",\", recall, \",\", f1)\n",
        "\n",
        "op_pred_test = svm_classifier.predict(ip_test)\n",
        "\n",
        "accuracy, precision, recall, f1 = get_report(op_test, op_pred_test)\n",
        "\n",
        "print(\"Test Scores: \")\n",
        "print(\"Accuracy, Precision, Recall, F1\")\n",
        "print(accuracy, \",\", precision, \",\", recall, \",\", f1)"
      ]
    },
    {
      "cell_type": "markdown",
      "metadata": {
        "id": "BoI68O950QMM"
      },
      "source": [
        "# Logistic Regression"
      ]
    },
    {
      "cell_type": "code",
      "execution_count": 36,
      "metadata": {
        "colab": {
          "background_save": true
        },
        "id": "MsTVFzFZ0QMM"
      },
      "outputs": [
        {
          "data": {
            "text/html": [
              "<style>#sk-container-id-3 {color: black;}#sk-container-id-3 pre{padding: 0;}#sk-container-id-3 div.sk-toggleable {background-color: white;}#sk-container-id-3 label.sk-toggleable__label {cursor: pointer;display: block;width: 100%;margin-bottom: 0;padding: 0.3em;box-sizing: border-box;text-align: center;}#sk-container-id-3 label.sk-toggleable__label-arrow:before {content: \"▸\";float: left;margin-right: 0.25em;color: #696969;}#sk-container-id-3 label.sk-toggleable__label-arrow:hover:before {color: black;}#sk-container-id-3 div.sk-estimator:hover label.sk-toggleable__label-arrow:before {color: black;}#sk-container-id-3 div.sk-toggleable__content {max-height: 0;max-width: 0;overflow: hidden;text-align: left;background-color: #f0f8ff;}#sk-container-id-3 div.sk-toggleable__content pre {margin: 0.2em;color: black;border-radius: 0.25em;background-color: #f0f8ff;}#sk-container-id-3 input.sk-toggleable__control:checked~div.sk-toggleable__content {max-height: 200px;max-width: 100%;overflow: auto;}#sk-container-id-3 input.sk-toggleable__control:checked~label.sk-toggleable__label-arrow:before {content: \"▾\";}#sk-container-id-3 div.sk-estimator input.sk-toggleable__control:checked~label.sk-toggleable__label {background-color: #d4ebff;}#sk-container-id-3 div.sk-label input.sk-toggleable__control:checked~label.sk-toggleable__label {background-color: #d4ebff;}#sk-container-id-3 input.sk-hidden--visually {border: 0;clip: rect(1px 1px 1px 1px);clip: rect(1px, 1px, 1px, 1px);height: 1px;margin: -1px;overflow: hidden;padding: 0;position: absolute;width: 1px;}#sk-container-id-3 div.sk-estimator {font-family: monospace;background-color: #f0f8ff;border: 1px dotted black;border-radius: 0.25em;box-sizing: border-box;margin-bottom: 0.5em;}#sk-container-id-3 div.sk-estimator:hover {background-color: #d4ebff;}#sk-container-id-3 div.sk-parallel-item::after {content: \"\";width: 100%;border-bottom: 1px solid gray;flex-grow: 1;}#sk-container-id-3 div.sk-label:hover label.sk-toggleable__label {background-color: #d4ebff;}#sk-container-id-3 div.sk-serial::before {content: \"\";position: absolute;border-left: 1px solid gray;box-sizing: border-box;top: 0;bottom: 0;left: 50%;z-index: 0;}#sk-container-id-3 div.sk-serial {display: flex;flex-direction: column;align-items: center;background-color: white;padding-right: 0.2em;padding-left: 0.2em;position: relative;}#sk-container-id-3 div.sk-item {position: relative;z-index: 1;}#sk-container-id-3 div.sk-parallel {display: flex;align-items: stretch;justify-content: center;background-color: white;position: relative;}#sk-container-id-3 div.sk-item::before, #sk-container-id-3 div.sk-parallel-item::before {content: \"\";position: absolute;border-left: 1px solid gray;box-sizing: border-box;top: 0;bottom: 0;left: 50%;z-index: -1;}#sk-container-id-3 div.sk-parallel-item {display: flex;flex-direction: column;z-index: 1;position: relative;background-color: white;}#sk-container-id-3 div.sk-parallel-item:first-child::after {align-self: flex-end;width: 50%;}#sk-container-id-3 div.sk-parallel-item:last-child::after {align-self: flex-start;width: 50%;}#sk-container-id-3 div.sk-parallel-item:only-child::after {width: 0;}#sk-container-id-3 div.sk-dashed-wrapped {border: 1px dashed gray;margin: 0 0.4em 0.5em 0.4em;box-sizing: border-box;padding-bottom: 0.4em;background-color: white;}#sk-container-id-3 div.sk-label label {font-family: monospace;font-weight: bold;display: inline-block;line-height: 1.2em;}#sk-container-id-3 div.sk-label-container {text-align: center;}#sk-container-id-3 div.sk-container {/* jupyter's `normalize.less` sets `[hidden] { display: none; }` but bootstrap.min.css set `[hidden] { display: none !important; }` so we also need the `!important` here to be able to override the default hidden behavior on the sphinx rendered scikit-learn.org. See: https://github.com/scikit-learn/scikit-learn/issues/21755 */display: inline-block !important;position: relative;}#sk-container-id-3 div.sk-text-repr-fallback {display: none;}</style><div id=\"sk-container-id-3\" class=\"sk-top-container\"><div class=\"sk-text-repr-fallback\"><pre>LogisticRegression(max_iter=1000, multi_class=&#x27;multinomial&#x27;, random_state=5,\n",
              "                   solver=&#x27;saga&#x27;)</pre><b>In a Jupyter environment, please rerun this cell to show the HTML representation or trust the notebook. <br />On GitHub, the HTML representation is unable to render, please try loading this page with nbviewer.org.</b></div><div class=\"sk-container\" hidden><div class=\"sk-item\"><div class=\"sk-estimator sk-toggleable\"><input class=\"sk-toggleable__control sk-hidden--visually\" id=\"sk-estimator-id-3\" type=\"checkbox\" checked><label for=\"sk-estimator-id-3\" class=\"sk-toggleable__label sk-toggleable__label-arrow\">LogisticRegression</label><div class=\"sk-toggleable__content\"><pre>LogisticRegression(max_iter=1000, multi_class=&#x27;multinomial&#x27;, random_state=5,\n",
              "                   solver=&#x27;saga&#x27;)</pre></div></div></div></div></div>"
            ],
            "text/plain": [
              "LogisticRegression(max_iter=1000, multi_class='multinomial', random_state=5,\n",
              "                   solver='saga')"
            ]
          },
          "execution_count": 36,
          "metadata": {},
          "output_type": "execute_result"
        }
      ],
      "source": [
        "from sklearn.linear_model import LogisticRegression\n",
        "\n",
        "lr_classifier = LogisticRegression(\n",
        "    max_iter=1000, solver=\"saga\", multi_class=\"multinomial\", random_state=5)\n",
        "\n",
        "lr_classifier.fit(ip_train, op_train)"
      ]
    },
    {
      "cell_type": "code",
      "execution_count": 37,
      "metadata": {},
      "outputs": [
        {
          "name": "stdout",
          "output_type": "stream",
          "text": [
            "Logistic Regression Scores\n",
            "Train Scores: \n",
            "Accuracy, Precision, Recall, F1\n",
            "0.951525 , 0.9515456712265832 , 0.9515262059369602 , 0.9515245303863138\n",
            "Test Scores: \n",
            "Accuracy, Precision, Recall, F1\n",
            "0.9401 , 0.9401145513898586 , 0.9400962425886354 , 0.9400990415846653\n"
          ]
        }
      ],
      "source": [
        "op_pred_train = lr_classifier.predict(ip_train)\n",
        "\n",
        "accuracy, precision, recall, f1 = get_report(op_train, op_pred_train)\n",
        "\n",
        "print(\"Logistic Regression Scores\")\n",
        "print(\"Train Scores: \")\n",
        "print(\"Accuracy, Precision, Recall, F1\")\n",
        "print(accuracy, \",\", precision, \",\", recall, \",\", f1)\n",
        "\n",
        "op_pred_test = lr_classifier.predict(ip_test)\n",
        "\n",
        "accuracy, precision, recall, f1 = get_report(op_test, op_pred_test)\n",
        "\n",
        "print(\"Test Scores: \")\n",
        "print(\"Accuracy, Precision, Recall, F1\")\n",
        "print(accuracy, \",\", precision, \",\", recall, \",\", f1)"
      ]
    },
    {
      "cell_type": "markdown",
      "metadata": {
        "id": "8Wj9qgjg0QMM"
      },
      "source": [
        "# Naive Bayes"
      ]
    },
    {
      "cell_type": "code",
      "execution_count": 38,
      "metadata": {
        "colab": {
          "background_save": true
        },
        "id": "oPbxwcPE0QMM"
      },
      "outputs": [
        {
          "data": {
            "text/html": [
              "<style>#sk-container-id-4 {color: black;}#sk-container-id-4 pre{padding: 0;}#sk-container-id-4 div.sk-toggleable {background-color: white;}#sk-container-id-4 label.sk-toggleable__label {cursor: pointer;display: block;width: 100%;margin-bottom: 0;padding: 0.3em;box-sizing: border-box;text-align: center;}#sk-container-id-4 label.sk-toggleable__label-arrow:before {content: \"▸\";float: left;margin-right: 0.25em;color: #696969;}#sk-container-id-4 label.sk-toggleable__label-arrow:hover:before {color: black;}#sk-container-id-4 div.sk-estimator:hover label.sk-toggleable__label-arrow:before {color: black;}#sk-container-id-4 div.sk-toggleable__content {max-height: 0;max-width: 0;overflow: hidden;text-align: left;background-color: #f0f8ff;}#sk-container-id-4 div.sk-toggleable__content pre {margin: 0.2em;color: black;border-radius: 0.25em;background-color: #f0f8ff;}#sk-container-id-4 input.sk-toggleable__control:checked~div.sk-toggleable__content {max-height: 200px;max-width: 100%;overflow: auto;}#sk-container-id-4 input.sk-toggleable__control:checked~label.sk-toggleable__label-arrow:before {content: \"▾\";}#sk-container-id-4 div.sk-estimator input.sk-toggleable__control:checked~label.sk-toggleable__label {background-color: #d4ebff;}#sk-container-id-4 div.sk-label input.sk-toggleable__control:checked~label.sk-toggleable__label {background-color: #d4ebff;}#sk-container-id-4 input.sk-hidden--visually {border: 0;clip: rect(1px 1px 1px 1px);clip: rect(1px, 1px, 1px, 1px);height: 1px;margin: -1px;overflow: hidden;padding: 0;position: absolute;width: 1px;}#sk-container-id-4 div.sk-estimator {font-family: monospace;background-color: #f0f8ff;border: 1px dotted black;border-radius: 0.25em;box-sizing: border-box;margin-bottom: 0.5em;}#sk-container-id-4 div.sk-estimator:hover {background-color: #d4ebff;}#sk-container-id-4 div.sk-parallel-item::after {content: \"\";width: 100%;border-bottom: 1px solid gray;flex-grow: 1;}#sk-container-id-4 div.sk-label:hover label.sk-toggleable__label {background-color: #d4ebff;}#sk-container-id-4 div.sk-serial::before {content: \"\";position: absolute;border-left: 1px solid gray;box-sizing: border-box;top: 0;bottom: 0;left: 50%;z-index: 0;}#sk-container-id-4 div.sk-serial {display: flex;flex-direction: column;align-items: center;background-color: white;padding-right: 0.2em;padding-left: 0.2em;position: relative;}#sk-container-id-4 div.sk-item {position: relative;z-index: 1;}#sk-container-id-4 div.sk-parallel {display: flex;align-items: stretch;justify-content: center;background-color: white;position: relative;}#sk-container-id-4 div.sk-item::before, #sk-container-id-4 div.sk-parallel-item::before {content: \"\";position: absolute;border-left: 1px solid gray;box-sizing: border-box;top: 0;bottom: 0;left: 50%;z-index: -1;}#sk-container-id-4 div.sk-parallel-item {display: flex;flex-direction: column;z-index: 1;position: relative;background-color: white;}#sk-container-id-4 div.sk-parallel-item:first-child::after {align-self: flex-end;width: 50%;}#sk-container-id-4 div.sk-parallel-item:last-child::after {align-self: flex-start;width: 50%;}#sk-container-id-4 div.sk-parallel-item:only-child::after {width: 0;}#sk-container-id-4 div.sk-dashed-wrapped {border: 1px dashed gray;margin: 0 0.4em 0.5em 0.4em;box-sizing: border-box;padding-bottom: 0.4em;background-color: white;}#sk-container-id-4 div.sk-label label {font-family: monospace;font-weight: bold;display: inline-block;line-height: 1.2em;}#sk-container-id-4 div.sk-label-container {text-align: center;}#sk-container-id-4 div.sk-container {/* jupyter's `normalize.less` sets `[hidden] { display: none; }` but bootstrap.min.css set `[hidden] { display: none !important; }` so we also need the `!important` here to be able to override the default hidden behavior on the sphinx rendered scikit-learn.org. See: https://github.com/scikit-learn/scikit-learn/issues/21755 */display: inline-block !important;position: relative;}#sk-container-id-4 div.sk-text-repr-fallback {display: none;}</style><div id=\"sk-container-id-4\" class=\"sk-top-container\"><div class=\"sk-text-repr-fallback\"><pre>MultinomialNB(alpha=13)</pre><b>In a Jupyter environment, please rerun this cell to show the HTML representation or trust the notebook. <br />On GitHub, the HTML representation is unable to render, please try loading this page with nbviewer.org.</b></div><div class=\"sk-container\" hidden><div class=\"sk-item\"><div class=\"sk-estimator sk-toggleable\"><input class=\"sk-toggleable__control sk-hidden--visually\" id=\"sk-estimator-id-4\" type=\"checkbox\" checked><label for=\"sk-estimator-id-4\" class=\"sk-toggleable__label sk-toggleable__label-arrow\">MultinomialNB</label><div class=\"sk-toggleable__content\"><pre>MultinomialNB(alpha=13)</pre></div></div></div></div></div>"
            ],
            "text/plain": [
              "MultinomialNB(alpha=13)"
            ]
          },
          "execution_count": 38,
          "metadata": {},
          "output_type": "execute_result"
        }
      ],
      "source": [
        "from sklearn.naive_bayes import MultinomialNB\n",
        "\n",
        "nb_classifier = MultinomialNB(alpha=13)\n",
        "\n",
        "nb_classifier.fit(ip_train, op_train)"
      ]
    },
    {
      "cell_type": "code",
      "execution_count": 39,
      "metadata": {},
      "outputs": [
        {
          "name": "stdout",
          "output_type": "stream",
          "text": [
            "Naive Bayes Scores\n",
            "Train Scores: \n",
            "Accuracy, Precision, Recall, F1\n",
            "0.9112375 , 0.9123767891190586 , 0.9112467116277222 , 0.9111774559602291\n",
            "Test Scores: \n",
            "Accuracy, Precision, Recall, F1\n",
            "0.909075 , 0.9102051902420838 , 0.9090384567153752 , 0.9090068105568925\n"
          ]
        }
      ],
      "source": [
        "op_pred_train = nb_classifier.predict(ip_train)\n",
        "\n",
        "accuracy, precision, recall, f1 = get_report(op_train, op_pred_train)\n",
        "\n",
        "print(\"Naive Bayes Scores\")\n",
        "print(\"Train Scores: \")\n",
        "print(\"Accuracy, Precision, Recall, F1\")\n",
        "print(accuracy, \",\", precision, \",\", recall, \",\", f1)\n",
        "\n",
        "op_pred_test = nb_classifier.predict(ip_test)\n",
        "\n",
        "accuracy, precision, recall, f1 = get_report(op_test, op_pred_test)\n",
        "\n",
        "print(\"Test Scores: \")\n",
        "print(\"Accuracy, Precision, Recall, F1\")\n",
        "print(accuracy, \",\", precision, \",\", recall, \",\", f1)"
      ]
    }
  ],
  "metadata": {
    "colab": {
      "provenance": []
    },
    "kernelspec": {
      "display_name": "Python 3 (ipykernel)",
      "language": "python",
      "name": "python3"
    },
    "language_info": {
      "codemirror_mode": {
        "name": "ipython",
        "version": 3
      },
      "file_extension": ".py",
      "mimetype": "text/x-python",
      "name": "python",
      "nbconvert_exporter": "python",
      "pygments_lexer": "ipython3",
      "version": "3.11.7"
    }
  },
  "nbformat": 4,
  "nbformat_minor": 0
}
